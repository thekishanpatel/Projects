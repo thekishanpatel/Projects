{
  "nbformat": 4,
  "nbformat_minor": 0,
  "metadata": {
    "colab": {
      "name": "Sentiment Analysis.ipynb",
      "provenance": [],
      "collapsed_sections": [],
      "authorship_tag": "ABX9TyMCg8/3mrPSsI/yxt009Qf2",
      "include_colab_link": true
    },
    "kernelspec": {
      "name": "python3",
      "display_name": "Python 3"
    },
    "accelerator": "GPU"
  },
  "cells": [
    {
      "cell_type": "markdown",
      "metadata": {
        "id": "view-in-github",
        "colab_type": "text"
      },
      "source": [
        "<a href=\"https://colab.research.google.com/github/thekishanpatel/Projects/blob/master/Sentiment_Analysis.ipynb\" target=\"_parent\"><img src=\"https://colab.research.google.com/assets/colab-badge.svg\" alt=\"Open In Colab\"/></a>"
      ]
    },
    {
      "cell_type": "markdown",
      "metadata": {
        "id": "uvsIH2XKwkXx",
        "colab_type": "text"
      },
      "source": [
        "# **Sentiment Analysis**\n",
        "\n",
        "In an age where media is being critizied, I made a simple sentiment analysis tool that grabs headlines from NYT and Reuters based on a certain topic, and then uses pre-trained classifiers to give a 'sentiment' score on the headlines. The idea was to see if one or both of the news-sources have a bias for or against the topic. \n",
        "\n",
        "This was merely a practice for me to learn using NLP libraries and applying Sentiment Analysis, something I wanted to get comfortable with prior to applying it to my larger project. "
      ]
    },
    {
      "cell_type": "markdown",
      "metadata": {
        "id": "wrzvpijsya_H",
        "colab_type": "text"
      },
      "source": [
        "# **Import Libraries**"
      ]
    },
    {
      "cell_type": "code",
      "metadata": {
        "id": "vvu2LBRAJZwY",
        "colab_type": "code",
        "colab": {}
      },
      "source": [
        "from textblob import TextBlob\n",
        "import numpy as np\n",
        "import pandas as pd\n",
        "import nltk\n",
        "import matplotlib.pyplot as plt\n",
        "import re as re\n",
        "%matplotlib inline\n",
        "\n",
        "import requests\n",
        "from bs4 import BeautifulSoup"
      ],
      "execution_count": 0,
      "outputs": []
    },
    {
      "cell_type": "markdown",
      "metadata": {
        "id": "zvtJGOmwyebt",
        "colab_type": "text"
      },
      "source": [
        "# **Get Topic From User**"
      ]
    },
    {
      "cell_type": "code",
      "metadata": {
        "id": "GqLB3h46ld9_",
        "colab_type": "code",
        "colab": {
          "base_uri": "https://localhost:8080/",
          "height": 35
        },
        "outputId": "27773f3f-3d27-4ed7-fba1-a2da69fd1a2f"
      },
      "source": [
        "inp = input('Enter topic you want to search:')\n",
        "inp = re.sub(' ', '+', inp)"
      ],
      "execution_count": 32,
      "outputs": [
        {
          "output_type": "stream",
          "text": [
            "Enter topic you want to search:bernie sanders\n"
          ],
          "name": "stdout"
        }
      ]
    },
    {
      "cell_type": "markdown",
      "metadata": {
        "id": "1FR56w5mykSd",
        "colab_type": "text"
      },
      "source": [
        "# **Get the Headlines from the Two Sites**"
      ]
    },
    {
      "cell_type": "code",
      "metadata": {
        "id": "aK3vro0wJzuW",
        "colab_type": "code",
        "colab": {}
      },
      "source": [
        "nytu = 'https://www.nytimes.com/search?query=' + inp\n",
        "nytuparent = 'https://www.nytimes.com'\n",
        "pge = requests.get(nytu)\n",
        "soup = BeautifulSoup(pge.content, 'html.parser')\n",
        "wl = soup.findAll('div', attrs={'class':'css-e1lvw9'})\n",
        "headlines = []\n",
        "links = []\n",
        "for a in wl:\n",
        "  hl = a.find('h4', attrs={'class':'css-2fgx4k'})\n",
        "  link = a.find('a')\n",
        "  headlines.append(hl.get_text())\n",
        "  link = nytuparent + link.get('href')\n",
        "  links.append(link)\n",
        "nytpd = pd.DataFrame({'Headlines' : headlines, 'Links' : links})"
      ],
      "execution_count": 0,
      "outputs": []
    },
    {
      "cell_type": "code",
      "metadata": {
        "id": "JGKbDlExWOS0",
        "colab_type": "code",
        "colab": {}
      },
      "source": [
        "ru = 'https://www.reuters.com/search/news?blob=' + inp\n",
        "ruparent = 'https://www.reuters.com'\n",
        "pge = requests.get(ru)\n",
        "soup = BeautifulSoup(pge.content, 'html.parser')\n",
        "wl1 = soup.findAll('div', attrs={'class':'search-result-content'})\n",
        "headlines = []\n",
        "links = []\n",
        "for a in wl1:\n",
        "  hl = a.find('h3', attrs={'class':'search-result-title'})\n",
        "  link = a.find('a')\n",
        "  link = ruparent + link.get('href')\n",
        "  headlines.append(hl.get_text())\n",
        "  links.append(link)\n",
        "reutpd = pd.DataFrame({'Headlines' : headlines, 'Links' : links})"
      ],
      "execution_count": 0,
      "outputs": []
    },
    {
      "cell_type": "markdown",
      "metadata": {
        "id": "KxUMDQRmysg1",
        "colab_type": "text"
      },
      "source": [
        "# **Build Classifier**"
      ]
    },
    {
      "cell_type": "code",
      "metadata": {
        "id": "cMUMDi2glB2C",
        "colab_type": "code",
        "outputId": "ebb16e02-86c1-4a0a-b0b8-9bad18ea55cc",
        "colab": {
          "base_uri": "https://localhost:8080/",
          "height": 52
        }
      },
      "source": [
        "nltk.download('vader_lexicon')\n",
        "from nltk.sentiment.vader import SentimentIntensityAnalyzer"
      ],
      "execution_count": 17,
      "outputs": [
        {
          "output_type": "stream",
          "text": [
            "[nltk_data] Downloading package vader_lexicon to /root/nltk_data...\n",
            "[nltk_data]   Package vader_lexicon is already up-to-date!\n"
          ],
          "name": "stdout"
        }
      ]
    },
    {
      "cell_type": "code",
      "metadata": {
        "id": "VwqWX4hkqRqq",
        "colab_type": "code",
        "colab": {}
      },
      "source": [
        "def sentiment(data):\n",
        "  senti = SentimentIntensityAnalyzer();\n",
        "  hl = data['Headlines'].values\n",
        "  n = len(hl)\n",
        "  Score = []\n",
        "\n",
        "  for i in range(0, n, 1):\n",
        "    s = senti.polarity_scores(hl[i])\n",
        "    Score.append(s['compound'])\n",
        "  return Score"
      ],
      "execution_count": 0,
      "outputs": []
    },
    {
      "cell_type": "code",
      "metadata": {
        "id": "RqBuzZawtimD",
        "colab_type": "code",
        "colab": {}
      },
      "source": [
        "def sentiment2(data):\n",
        "  hl = data['Headlines'].values\n",
        "  n = len(hl)\n",
        "  Score = []\n",
        "\n",
        "  for i in range(0, n, 1):\n",
        "    s = TextBlob(hl[i])\n",
        "    Score.append(s.sentiment.polarity)\n",
        "  return Score"
      ],
      "execution_count": 0,
      "outputs": []
    },
    {
      "cell_type": "code",
      "metadata": {
        "id": "38YHF7oEu8qo",
        "colab_type": "code",
        "colab": {}
      },
      "source": [
        "def comment(data):\n",
        "  avg = data['Average Score'].values; num = len(avg)\n",
        "  comment = []; p = 'Positive'; n = 'Negative'; neu = 'Neutral';\n",
        "  \n",
        "  for i in range(0, num, 1):\n",
        "    if avg[i] > 0.05: \n",
        "      comment.append(p)\n",
        "    elif (-0.05 <= avg[i] <= 0.05):\n",
        "      comment.append(neu)\n",
        "    else:\n",
        "      comment.append(n)\n",
        "  return comment"
      ],
      "execution_count": 0,
      "outputs": []
    },
    {
      "cell_type": "code",
      "metadata": {
        "id": "9ZFVd6Hlq6oA",
        "colab_type": "code",
        "colab": {}
      },
      "source": [
        "nytScore = sentiment(nytpd); nytpd.insert(1,\"Score\",nytScore)\n",
        "reutScore = sentiment(reutpd); reutpd.insert(1,\"Score\",reutScore)\n",
        "\n",
        "nytScore2 = sentiment2(nytpd); nytpd.insert(2,\"Score2\",nytScore2)\n",
        "reutScore2 = sentiment2(reutpd); reutpd.insert(2,\"Score2\",reutScore2)"
      ],
      "execution_count": 0,
      "outputs": []
    },
    {
      "cell_type": "code",
      "metadata": {
        "id": "j1XA2onujByl",
        "colab_type": "code",
        "colab": {}
      },
      "source": [
        "nytpd.insert(3,'Average Score', (nytpd.Score+nytpd.Score2)/2)\n",
        "reutpd.insert(3,'Average Score', (reutpd.Score+reutpd.Score2)/2)"
      ],
      "execution_count": 0,
      "outputs": []
    },
    {
      "cell_type": "code",
      "metadata": {
        "id": "6vsiVRFjjCA0",
        "colab_type": "code",
        "colab": {}
      },
      "source": [
        "nytcmt = comment(nytpd); nytpd.insert(4, 'Review', nytcmt)\n",
        "reutcmt = comment(reutpd); reutpd.insert(4, 'Review', reutcmt)"
      ],
      "execution_count": 0,
      "outputs": []
    },
    {
      "cell_type": "markdown",
      "metadata": {
        "id": "zzPcsSGDy3OE",
        "colab_type": "text"
      },
      "source": [
        "# **Results**"
      ]
    },
    {
      "cell_type": "code",
      "metadata": {
        "id": "WrXHDuChqqwn",
        "colab_type": "code",
        "colab": {
          "base_uri": "https://localhost:8080/",
          "height": 355
        },
        "outputId": "af3b6da8-4d5c-4af0-9641-145158d02ec6"
      },
      "source": [
        "nytpd"
      ],
      "execution_count": 38,
      "outputs": [
        {
          "output_type": "execute_result",
          "data": {
            "text/html": [
              "<div>\n",
              "<style scoped>\n",
              "    .dataframe tbody tr th:only-of-type {\n",
              "        vertical-align: middle;\n",
              "    }\n",
              "\n",
              "    .dataframe tbody tr th {\n",
              "        vertical-align: top;\n",
              "    }\n",
              "\n",
              "    .dataframe thead th {\n",
              "        text-align: right;\n",
              "    }\n",
              "</style>\n",
              "<table border=\"1\" class=\"dataframe\">\n",
              "  <thead>\n",
              "    <tr style=\"text-align: right;\">\n",
              "      <th></th>\n",
              "      <th>Headlines</th>\n",
              "      <th>Score</th>\n",
              "      <th>Score2</th>\n",
              "      <th>Average Score</th>\n",
              "      <th>Review</th>\n",
              "      <th>Links</th>\n",
              "    </tr>\n",
              "  </thead>\n",
              "  <tbody>\n",
              "    <tr>\n",
              "      <th>0</th>\n",
              "      <td>The Scent of Bernie Sanders</td>\n",
              "      <td>0.0000</td>\n",
              "      <td>0.0</td>\n",
              "      <td>0.00000</td>\n",
              "      <td>Neutral</td>\n",
              "      <td>https://www.nytimes.com/2020/01/31/style/berni...</td>\n",
              "    </tr>\n",
              "    <tr>\n",
              "      <th>1</th>\n",
              "      <td>Bernie Sanders Can’t Win</td>\n",
              "      <td>0.5859</td>\n",
              "      <td>0.8</td>\n",
              "      <td>0.69295</td>\n",
              "      <td>Positive</td>\n",
              "      <td>https://www.nytimes.com/2020/01/31/opinion/ber...</td>\n",
              "    </tr>\n",
              "    <tr>\n",
              "      <th>2</th>\n",
              "      <td>Joe Biden Attacks Bernie Sanders’s Record on Guns</td>\n",
              "      <td>-0.4404</td>\n",
              "      <td>0.0</td>\n",
              "      <td>-0.22020</td>\n",
              "      <td>Negative</td>\n",
              "      <td>https://www.nytimes.com/2020/02/07/us/politics...</td>\n",
              "    </tr>\n",
              "    <tr>\n",
              "      <th>3</th>\n",
              "      <td>Bernie Sanders’s Surge Owes a Lot to Voters of...</td>\n",
              "      <td>0.0000</td>\n",
              "      <td>0.0</td>\n",
              "      <td>0.00000</td>\n",
              "      <td>Neutral</td>\n",
              "      <td>https://www.nytimes.com/2020/01/31/us/politics...</td>\n",
              "    </tr>\n",
              "    <tr>\n",
              "      <th>4</th>\n",
              "      <td>President Bernie Sanders</td>\n",
              "      <td>0.0000</td>\n",
              "      <td>0.0</td>\n",
              "      <td>0.00000</td>\n",
              "      <td>Neutral</td>\n",
              "      <td>https://www.nytimes.com/2020/01/16/opinion/ber...</td>\n",
              "    </tr>\n",
              "    <tr>\n",
              "      <th>5</th>\n",
              "      <td>The Bernie Sanders Fallacy</td>\n",
              "      <td>0.0000</td>\n",
              "      <td>0.0</td>\n",
              "      <td>0.00000</td>\n",
              "      <td>Neutral</td>\n",
              "      <td>https://www.nytimes.com/2020/01/16/opinion/the...</td>\n",
              "    </tr>\n",
              "    <tr>\n",
              "      <th>6</th>\n",
              "      <td>What Are Iowa’s Satellite Caucuses? And How Di...</td>\n",
              "      <td>0.4696</td>\n",
              "      <td>0.0</td>\n",
              "      <td>0.23480</td>\n",
              "      <td>Positive</td>\n",
              "      <td>https://www.nytimes.com/2020/02/06/us/politics...</td>\n",
              "    </tr>\n",
              "    <tr>\n",
              "      <th>7</th>\n",
              "      <td>Please Stop Calling Bernie Sanders a Populist</td>\n",
              "      <td>0.0258</td>\n",
              "      <td>0.0</td>\n",
              "      <td>0.01290</td>\n",
              "      <td>Neutral</td>\n",
              "      <td>https://www.nytimes.com/2020/01/23/opinion/ber...</td>\n",
              "    </tr>\n",
              "    <tr>\n",
              "      <th>8</th>\n",
              "      <td>Hillary Clinton Slams Bernie Sanders for Not W...</td>\n",
              "      <td>0.0000</td>\n",
              "      <td>0.0</td>\n",
              "      <td>0.00000</td>\n",
              "      <td>Neutral</td>\n",
              "      <td>https://www.nytimes.com/2020/01/31/us/politics...</td>\n",
              "    </tr>\n",
              "    <tr>\n",
              "      <th>9</th>\n",
              "      <td>Bernie Sanders, and How Indian Food Can Predic...</td>\n",
              "      <td>0.0000</td>\n",
              "      <td>0.0</td>\n",
              "      <td>0.00000</td>\n",
              "      <td>Neutral</td>\n",
              "      <td>https://www.nytimes.com/2020/01/30/upshot/bern...</td>\n",
              "    </tr>\n",
              "  </tbody>\n",
              "</table>\n",
              "</div>"
            ],
            "text/plain": [
              "                                           Headlines  ...                                              Links\n",
              "0                        The Scent of Bernie Sanders  ...  https://www.nytimes.com/2020/01/31/style/berni...\n",
              "1                           Bernie Sanders Can’t Win  ...  https://www.nytimes.com/2020/01/31/opinion/ber...\n",
              "2  Joe Biden Attacks Bernie Sanders’s Record on Guns  ...  https://www.nytimes.com/2020/02/07/us/politics...\n",
              "3  Bernie Sanders’s Surge Owes a Lot to Voters of...  ...  https://www.nytimes.com/2020/01/31/us/politics...\n",
              "4                           President Bernie Sanders  ...  https://www.nytimes.com/2020/01/16/opinion/ber...\n",
              "5                         The Bernie Sanders Fallacy  ...  https://www.nytimes.com/2020/01/16/opinion/the...\n",
              "6  What Are Iowa’s Satellite Caucuses? And How Di...  ...  https://www.nytimes.com/2020/02/06/us/politics...\n",
              "7      Please Stop Calling Bernie Sanders a Populist  ...  https://www.nytimes.com/2020/01/23/opinion/ber...\n",
              "8  Hillary Clinton Slams Bernie Sanders for Not W...  ...  https://www.nytimes.com/2020/01/31/us/politics...\n",
              "9  Bernie Sanders, and How Indian Food Can Predic...  ...  https://www.nytimes.com/2020/01/30/upshot/bern...\n",
              "\n",
              "[10 rows x 6 columns]"
            ]
          },
          "metadata": {
            "tags": []
          },
          "execution_count": 38
        }
      ]
    },
    {
      "cell_type": "code",
      "metadata": {
        "id": "FJtbHTEqqu3o",
        "colab_type": "code",
        "colab": {
          "base_uri": "https://localhost:8080/",
          "height": 355
        },
        "outputId": "adcb0681-6900-497b-d1fe-43d6ac903a1e"
      },
      "source": [
        "reutpd"
      ],
      "execution_count": 39,
      "outputs": [
        {
          "output_type": "execute_result",
          "data": {
            "text/html": [
              "<div>\n",
              "<style scoped>\n",
              "    .dataframe tbody tr th:only-of-type {\n",
              "        vertical-align: middle;\n",
              "    }\n",
              "\n",
              "    .dataframe tbody tr th {\n",
              "        vertical-align: top;\n",
              "    }\n",
              "\n",
              "    .dataframe thead th {\n",
              "        text-align: right;\n",
              "    }\n",
              "</style>\n",
              "<table border=\"1\" class=\"dataframe\">\n",
              "  <thead>\n",
              "    <tr style=\"text-align: right;\">\n",
              "      <th></th>\n",
              "      <th>Headlines</th>\n",
              "      <th>Score</th>\n",
              "      <th>Score2</th>\n",
              "      <th>Average Score</th>\n",
              "      <th>Review</th>\n",
              "      <th>Links</th>\n",
              "    </tr>\n",
              "  </thead>\n",
              "  <tbody>\n",
              "    <tr>\n",
              "      <th>0</th>\n",
              "      <td>Breakingviews - Cox: Who’s afraid of a Preside...</td>\n",
              "      <td>0.0000</td>\n",
              "      <td>-0.6</td>\n",
              "      <td>-0.30000</td>\n",
              "      <td>Negative</td>\n",
              "      <td>https://www.reuters.com/article/us-usa-politic...</td>\n",
              "    </tr>\n",
              "    <tr>\n",
              "      <th>1</th>\n",
              "      <td>Bernie Sanders to defend democratic socialism ...</td>\n",
              "      <td>0.0000</td>\n",
              "      <td>0.0</td>\n",
              "      <td>0.00000</td>\n",
              "      <td>Neutral</td>\n",
              "      <td>https://www.reuters.com/article/idUSKCN1TC2XY</td>\n",
              "    </tr>\n",
              "    <tr>\n",
              "      <th>2</th>\n",
              "      <td>Bernie Sanders accuses Walmart of paying 'star...</td>\n",
              "      <td>-0.3400</td>\n",
              "      <td>0.0</td>\n",
              "      <td>-0.17000</td>\n",
              "      <td>Negative</td>\n",
              "      <td>https://www.reuters.com/article/idUSL2N23C0W9</td>\n",
              "    </tr>\n",
              "    <tr>\n",
              "      <th>3</th>\n",
              "      <td>Bernie Sanders urges Walmart to boost 'starvat...</td>\n",
              "      <td>0.4019</td>\n",
              "      <td>0.0</td>\n",
              "      <td>0.20095</td>\n",
              "      <td>Positive</td>\n",
              "      <td>https://www.reuters.com/article/idUSKCN1T622J</td>\n",
              "    </tr>\n",
              "    <tr>\n",
              "      <th>4</th>\n",
              "      <td>Bernie Sanders to defend democratic socialism ...</td>\n",
              "      <td>0.0000</td>\n",
              "      <td>0.0</td>\n",
              "      <td>0.00000</td>\n",
              "      <td>Neutral</td>\n",
              "      <td>https://www.reuters.com/article/idUSL2N23I1Y3</td>\n",
              "    </tr>\n",
              "    <tr>\n",
              "      <th>5</th>\n",
              "      <td>Bernie Sanders 'up and about,' will be in next...</td>\n",
              "      <td>0.0000</td>\n",
              "      <td>0.0</td>\n",
              "      <td>0.00000</td>\n",
              "      <td>Neutral</td>\n",
              "      <td>https://www.reuters.com/article/idUSKBN1WI21E</td>\n",
              "    </tr>\n",
              "    <tr>\n",
              "      <th>6</th>\n",
              "      <td>After feud with Warren, Bernie Sanders release...</td>\n",
              "      <td>-0.3400</td>\n",
              "      <td>0.0</td>\n",
              "      <td>-0.17000</td>\n",
              "      <td>Negative</td>\n",
              "      <td>https://www.reuters.com/article/idUSL1N29M10V</td>\n",
              "    </tr>\n",
              "    <tr>\n",
              "      <th>7</th>\n",
              "      <td>Florida man gets 15 months for threatening to ...</td>\n",
              "      <td>-0.8442</td>\n",
              "      <td>0.0</td>\n",
              "      <td>-0.42210</td>\n",
              "      <td>Negative</td>\n",
              "      <td>https://www.reuters.com/article/idUSKCN1VD2AG</td>\n",
              "    </tr>\n",
              "    <tr>\n",
              "      <th>8</th>\n",
              "      <td>'Nobody likes him' - Hillary Clinton bashes Be...</td>\n",
              "      <td>0.4215</td>\n",
              "      <td>0.0</td>\n",
              "      <td>0.21075</td>\n",
              "      <td>Positive</td>\n",
              "      <td>https://www.reuters.com/article/idUSL1N29Q0LM</td>\n",
              "    </tr>\n",
              "    <tr>\n",
              "      <th>9</th>\n",
              "      <td>UPDATE 2-'Nobody likes him' - Hillary Clinton ...</td>\n",
              "      <td>0.4215</td>\n",
              "      <td>0.0</td>\n",
              "      <td>0.21075</td>\n",
              "      <td>Positive</td>\n",
              "      <td>https://www.reuters.com/article/idUSL1N29Q0WK</td>\n",
              "    </tr>\n",
              "  </tbody>\n",
              "</table>\n",
              "</div>"
            ],
            "text/plain": [
              "                                           Headlines  ...                                              Links\n",
              "0  Breakingviews - Cox: Who’s afraid of a Preside...  ...  https://www.reuters.com/article/us-usa-politic...\n",
              "1  Bernie Sanders to defend democratic socialism ...  ...      https://www.reuters.com/article/idUSKCN1TC2XY\n",
              "2  Bernie Sanders accuses Walmart of paying 'star...  ...      https://www.reuters.com/article/idUSL2N23C0W9\n",
              "3  Bernie Sanders urges Walmart to boost 'starvat...  ...      https://www.reuters.com/article/idUSKCN1T622J\n",
              "4  Bernie Sanders to defend democratic socialism ...  ...      https://www.reuters.com/article/idUSL2N23I1Y3\n",
              "5  Bernie Sanders 'up and about,' will be in next...  ...      https://www.reuters.com/article/idUSKBN1WI21E\n",
              "6  After feud with Warren, Bernie Sanders release...  ...      https://www.reuters.com/article/idUSL1N29M10V\n",
              "7  Florida man gets 15 months for threatening to ...  ...      https://www.reuters.com/article/idUSKCN1VD2AG\n",
              "8  'Nobody likes him' - Hillary Clinton bashes Be...  ...      https://www.reuters.com/article/idUSL1N29Q0LM\n",
              "9  UPDATE 2-'Nobody likes him' - Hillary Clinton ...  ...      https://www.reuters.com/article/idUSL1N29Q0WK\n",
              "\n",
              "[10 rows x 6 columns]"
            ]
          },
          "metadata": {
            "tags": []
          },
          "execution_count": 39
        }
      ]
    }
  ]
}