{
  "nbformat": 4,
  "nbformat_minor": 0,
  "metadata": {
    "colab": {
      "name": "New Headlines and More (NLP).ipynb",
      "provenance": [],
      "collapsed_sections": [],
      "authorship_tag": "ABX9TyNGofMKQVJ4yTkenFdr1NJ6",
      "include_colab_link": true
    },
    "kernelspec": {
      "name": "python3",
      "display_name": "Python 3"
    },
    "accelerator": "GPU"
  },
  "cells": [
    {
      "cell_type": "markdown",
      "metadata": {
        "id": "view-in-github",
        "colab_type": "text"
      },
      "source": [
        "<a href=\"https://colab.research.google.com/github/thekishanpatel/Projects/blob/master/New_Headlines_and_More_(NLP).ipynb\" target=\"_parent\"><img src=\"https://colab.research.google.com/assets/colab-badge.svg\" alt=\"Open In Colab\"/></a>"
      ]
    },
    {
      "cell_type": "markdown",
      "metadata": {
        "id": "uvsIH2XKwkXx",
        "colab_type": "text"
      },
      "source": [
        "# **Sentiment Analysis**\n",
        "\n",
        "In an age where media is being critizied, I made a simple sentiment analysis tool that grabs headlines from NYT and Reuters based on a certain topic, and then uses pre-trained classifiers to give a 'sentiment' score on the headlines. The idea was to see if one or both of the news-sources have a bias for or against the topic. \n",
        "\n",
        "This was merely a practice for me to learn using NLP libraries and applying Sentiment Analysis, something I wanted to get comfortable with prior to applying it to my larger project. "
      ]
    },
    {
      "cell_type": "markdown",
      "metadata": {
        "id": "wrzvpijsya_H",
        "colab_type": "text"
      },
      "source": [
        "# **Import Libraries**"
      ]
    },
    {
      "cell_type": "code",
      "metadata": {
        "id": "vvu2LBRAJZwY",
        "colab_type": "code",
        "colab": {}
      },
      "source": [
        "from textblob import TextBlob\n",
        "import numpy as np\n",
        "import pandas as pd\n",
        "import nltk\n",
        "from nltk import *\n",
        "from nltk.text import Text\n",
        "import matplotlib.pyplot as plt\n",
        "import re as re\n",
        "%matplotlib inline\n",
        "\n",
        "import requests\n",
        "from bs4 import BeautifulSoup"
      ],
      "execution_count": 0,
      "outputs": []
    },
    {
      "cell_type": "markdown",
      "metadata": {
        "id": "zvtJGOmwyebt",
        "colab_type": "text"
      },
      "source": [
        "# **Get Topic From User**"
      ]
    },
    {
      "cell_type": "code",
      "metadata": {
        "id": "GqLB3h46ld9_",
        "colab_type": "code",
        "outputId": "47ef5f6e-d74b-4b3e-91aa-3997df09520c",
        "colab": {
          "base_uri": "https://localhost:8080/",
          "height": 35
        }
      },
      "source": [
        "inp = input('Enter topic you want to search:')\n",
        "inp = re.sub(' ', '+', inp)"
      ],
      "execution_count": 3,
      "outputs": [
        {
          "output_type": "stream",
          "text": [
            "Enter topic you want to search:bernie\n"
          ],
          "name": "stdout"
        }
      ]
    },
    {
      "cell_type": "markdown",
      "metadata": {
        "id": "1FR56w5mykSd",
        "colab_type": "text"
      },
      "source": [
        "# **Get the Headlines from the Two Sites**"
      ]
    },
    {
      "cell_type": "code",
      "metadata": {
        "id": "aK3vro0wJzuW",
        "colab_type": "code",
        "colab": {}
      },
      "source": [
        "nytu = 'https://www.nytimes.com/search?query=' + inp\n",
        "nytuparent = 'https://www.nytimes.com'\n",
        "pge = requests.get(nytu)\n",
        "soup = BeautifulSoup(pge.content, 'html.parser')\n",
        "wl = soup.findAll('div', attrs={'class':'css-e1lvw9'})\n",
        "headlines = []\n",
        "links = []\n",
        "for a in wl:\n",
        "  hl = a.find('h4', attrs={'class':'css-2fgx4k'})\n",
        "  link = a.find('a')\n",
        "  headlines.append(hl.get_text())\n",
        "  link = nytuparent + link.get('href')\n",
        "  links.append(link)\n",
        "nytpd = pd.DataFrame({'Headlines' : headlines, 'Links' : links})"
      ],
      "execution_count": 0,
      "outputs": []
    },
    {
      "cell_type": "code",
      "metadata": {
        "id": "JGKbDlExWOS0",
        "colab_type": "code",
        "colab": {}
      },
      "source": [
        "ru = 'https://www.reuters.com/search/news?blob=' + inp\n",
        "ruparent = 'https://www.reuters.com'\n",
        "pge = requests.get(ru)\n",
        "soup = BeautifulSoup(pge.content, 'html.parser')\n",
        "wl1 = soup.findAll('div', attrs={'class':'search-result-content'})\n",
        "headlines = []\n",
        "links = []\n",
        "for a in wl1:\n",
        "  hl = a.find('h3', attrs={'class':'search-result-title'})\n",
        "  link = a.find('a')\n",
        "  link = ruparent + link.get('href')\n",
        "  headlines.append(hl.get_text())\n",
        "  links.append(link)\n",
        "reutpd = pd.DataFrame({'Headlines' : headlines, 'Links' : links})"
      ],
      "execution_count": 0,
      "outputs": []
    },
    {
      "cell_type": "markdown",
      "metadata": {
        "id": "KxUMDQRmysg1",
        "colab_type": "text"
      },
      "source": [
        "# **Build Classifier**"
      ]
    },
    {
      "cell_type": "code",
      "metadata": {
        "id": "cMUMDi2glB2C",
        "colab_type": "code",
        "outputId": "d37d13bb-005e-4498-e452-1003e5a92870",
        "colab": {
          "base_uri": "https://localhost:8080/",
          "height": 89
        }
      },
      "source": [
        "nltk.download('vader_lexicon')\n",
        "from nltk.sentiment.vader import SentimentIntensityAnalyzer"
      ],
      "execution_count": 6,
      "outputs": [
        {
          "output_type": "stream",
          "text": [
            "[nltk_data] Downloading package vader_lexicon to /root/nltk_data...\n"
          ],
          "name": "stdout"
        },
        {
          "output_type": "stream",
          "text": [
            "/usr/local/lib/python3.6/dist-packages/nltk/twitter/__init__.py:20: UserWarning: The twython library has not been installed. Some functionality from the twitter package will not be available.\n",
            "  warnings.warn(\"The twython library has not been installed. \"\n"
          ],
          "name": "stderr"
        }
      ]
    },
    {
      "cell_type": "code",
      "metadata": {
        "id": "VwqWX4hkqRqq",
        "colab_type": "code",
        "colab": {}
      },
      "source": [
        "def sentiment(data):\n",
        "  senti = SentimentIntensityAnalyzer();\n",
        "  hl = data['Headlines'].values\n",
        "  n = len(hl)\n",
        "  Score = []\n",
        "\n",
        "  for i in range(0, n, 1):\n",
        "    s = senti.polarity_scores(hl[i])\n",
        "    Score.append(s['compound'])\n",
        "  return Score"
      ],
      "execution_count": 0,
      "outputs": []
    },
    {
      "cell_type": "code",
      "metadata": {
        "id": "RqBuzZawtimD",
        "colab_type": "code",
        "colab": {}
      },
      "source": [
        "def sentiment2(data):\n",
        "  hl = data['Headlines'].values\n",
        "  n = len(hl)\n",
        "  Score = []\n",
        "\n",
        "  for i in range(0, n, 1):\n",
        "    s = TextBlob(hl[i])\n",
        "    Score.append(s.sentiment.polarity)\n",
        "  return Score"
      ],
      "execution_count": 0,
      "outputs": []
    },
    {
      "cell_type": "code",
      "metadata": {
        "id": "38YHF7oEu8qo",
        "colab_type": "code",
        "colab": {}
      },
      "source": [
        "def comment(data):\n",
        "  avg = data['Average Score'].values; num = len(avg)\n",
        "  comment = []; p = 'Positive'; n = 'Negative'; neu = 'Neutral';\n",
        "  \n",
        "  for i in range(0, num, 1):\n",
        "    if avg[i] > 0.05: \n",
        "      comment.append(p)\n",
        "    elif (-0.05 <= avg[i] <= 0.05):\n",
        "      comment.append(neu)\n",
        "    else:\n",
        "      comment.append(n)\n",
        "  return comment"
      ],
      "execution_count": 0,
      "outputs": []
    },
    {
      "cell_type": "code",
      "metadata": {
        "id": "9ZFVd6Hlq6oA",
        "colab_type": "code",
        "colab": {}
      },
      "source": [
        "nytScore = sentiment(nytpd); nytpd.insert(1,\"Score\",nytScore)\n",
        "reutScore = sentiment(reutpd); reutpd.insert(1,\"Score\",reutScore)\n",
        "\n",
        "nytScore2 = sentiment2(nytpd); nytpd.insert(2,\"Score2\",nytScore2)\n",
        "reutScore2 = sentiment2(reutpd); reutpd.insert(2,\"Score2\",reutScore2)"
      ],
      "execution_count": 0,
      "outputs": []
    },
    {
      "cell_type": "code",
      "metadata": {
        "id": "j1XA2onujByl",
        "colab_type": "code",
        "colab": {}
      },
      "source": [
        "nytpd.insert(3,'Average Score', (nytpd.Score+nytpd.Score2)/2)\n",
        "reutpd.insert(3,'Average Score', (reutpd.Score+reutpd.Score2)/2)"
      ],
      "execution_count": 0,
      "outputs": []
    },
    {
      "cell_type": "code",
      "metadata": {
        "id": "6vsiVRFjjCA0",
        "colab_type": "code",
        "colab": {}
      },
      "source": [
        "nytcmt = comment(nytpd); nytpd.insert(4, 'Review', nytcmt)\n",
        "reutcmt = comment(reutpd); reutpd.insert(4, 'Review', reutcmt)"
      ],
      "execution_count": 0,
      "outputs": []
    },
    {
      "cell_type": "markdown",
      "metadata": {
        "id": "zzPcsSGDy3OE",
        "colab_type": "text"
      },
      "source": [
        "# **Results**"
      ]
    },
    {
      "cell_type": "code",
      "metadata": {
        "id": "WrXHDuChqqwn",
        "colab_type": "code",
        "outputId": "288a260f-6835-4d2b-d309-e3cf2a91b31b",
        "colab": {
          "base_uri": "https://localhost:8080/",
          "height": 355
        }
      },
      "source": [
        "nytpd"
      ],
      "execution_count": 13,
      "outputs": [
        {
          "output_type": "execute_result",
          "data": {
            "text/html": [
              "<div>\n",
              "<style scoped>\n",
              "    .dataframe tbody tr th:only-of-type {\n",
              "        vertical-align: middle;\n",
              "    }\n",
              "\n",
              "    .dataframe tbody tr th {\n",
              "        vertical-align: top;\n",
              "    }\n",
              "\n",
              "    .dataframe thead th {\n",
              "        text-align: right;\n",
              "    }\n",
              "</style>\n",
              "<table border=\"1\" class=\"dataframe\">\n",
              "  <thead>\n",
              "    <tr style=\"text-align: right;\">\n",
              "      <th></th>\n",
              "      <th>Headlines</th>\n",
              "      <th>Score</th>\n",
              "      <th>Score2</th>\n",
              "      <th>Average Score</th>\n",
              "      <th>Review</th>\n",
              "      <th>Links</th>\n",
              "    </tr>\n",
              "  </thead>\n",
              "  <tbody>\n",
              "    <tr>\n",
              "      <th>0</th>\n",
              "      <td>Don’t Doubt Bernie</td>\n",
              "      <td>-0.3612</td>\n",
              "      <td>0.00</td>\n",
              "      <td>-0.18060</td>\n",
              "      <td>Negative</td>\n",
              "      <td>https://www.nytimes.com/2020/02/23/opinion/ber...</td>\n",
              "    </tr>\n",
              "    <tr>\n",
              "      <th>1</th>\n",
              "      <td>The Case for Bernie Sanders</td>\n",
              "      <td>0.0000</td>\n",
              "      <td>0.00</td>\n",
              "      <td>0.00000</td>\n",
              "      <td>Neutral</td>\n",
              "      <td>https://www.nytimes.com/2020/02/27/opinion/ber...</td>\n",
              "    </tr>\n",
              "    <tr>\n",
              "      <th>2</th>\n",
              "      <td>How Bernie Sanders Won Nevada</td>\n",
              "      <td>0.5719</td>\n",
              "      <td>0.00</td>\n",
              "      <td>0.28595</td>\n",
              "      <td>Positive</td>\n",
              "      <td>https://www.nytimes.com/interactive/2020/02/23...</td>\n",
              "    </tr>\n",
              "    <tr>\n",
              "      <th>3</th>\n",
              "      <td>Imagine Bernie Sanders in the Oval Office</td>\n",
              "      <td>0.0000</td>\n",
              "      <td>0.00</td>\n",
              "      <td>0.00000</td>\n",
              "      <td>Neutral</td>\n",
              "      <td>https://www.nytimes.com/2020/02/25/opinion/ber...</td>\n",
              "    </tr>\n",
              "    <tr>\n",
              "      <th>4</th>\n",
              "      <td>Will Latinos Buy Into ‘Tío Bernie’s’ Socialism?</td>\n",
              "      <td>0.0000</td>\n",
              "      <td>0.00</td>\n",
              "      <td>0.00000</td>\n",
              "      <td>Neutral</td>\n",
              "      <td>https://www.nytimes.com/2020/02/20/opinion/ber...</td>\n",
              "    </tr>\n",
              "    <tr>\n",
              "      <th>5</th>\n",
              "      <td>Bernie Sanders Wins the Nevada Caucuses</td>\n",
              "      <td>0.5719</td>\n",
              "      <td>0.30</td>\n",
              "      <td>0.43595</td>\n",
              "      <td>Positive</td>\n",
              "      <td>https://www.nytimes.com/video/us/elections/100...</td>\n",
              "    </tr>\n",
              "    <tr>\n",
              "      <th>6</th>\n",
              "      <td>Bernie Sanders Confronts ‘Bad Vote’ on Guns</td>\n",
              "      <td>-0.2263</td>\n",
              "      <td>-0.70</td>\n",
              "      <td>-0.46315</td>\n",
              "      <td>Negative</td>\n",
              "      <td>https://www.nytimes.com/video/us/elections/100...</td>\n",
              "    </tr>\n",
              "    <tr>\n",
              "      <th>7</th>\n",
              "      <td>President Bernie Sanders?</td>\n",
              "      <td>0.0000</td>\n",
              "      <td>0.00</td>\n",
              "      <td>0.00000</td>\n",
              "      <td>Neutral</td>\n",
              "      <td>https://www.nytimes.com/2020/02/11/opinion/ber...</td>\n",
              "    </tr>\n",
              "    <tr>\n",
              "      <th>8</th>\n",
              "      <td>Tonight’s Democratic Debate: Everyone vs. Bern...</td>\n",
              "      <td>0.0000</td>\n",
              "      <td>0.00</td>\n",
              "      <td>0.00000</td>\n",
              "      <td>Neutral</td>\n",
              "      <td>https://www.nytimes.com/interactive/2020/02/25...</td>\n",
              "    </tr>\n",
              "    <tr>\n",
              "      <th>9</th>\n",
              "      <td>Full Video: Bernie Sanders Rally in Texas</td>\n",
              "      <td>0.0000</td>\n",
              "      <td>0.35</td>\n",
              "      <td>0.17500</td>\n",
              "      <td>Positive</td>\n",
              "      <td>https://www.nytimes.com/video/us/elections/100...</td>\n",
              "    </tr>\n",
              "  </tbody>\n",
              "</table>\n",
              "</div>"
            ],
            "text/plain": [
              "                                           Headlines  ...                                              Links\n",
              "0                                 Don’t Doubt Bernie  ...  https://www.nytimes.com/2020/02/23/opinion/ber...\n",
              "1                        The Case for Bernie Sanders  ...  https://www.nytimes.com/2020/02/27/opinion/ber...\n",
              "2                      How Bernie Sanders Won Nevada  ...  https://www.nytimes.com/interactive/2020/02/23...\n",
              "3          Imagine Bernie Sanders in the Oval Office  ...  https://www.nytimes.com/2020/02/25/opinion/ber...\n",
              "4    Will Latinos Buy Into ‘Tío Bernie’s’ Socialism?  ...  https://www.nytimes.com/2020/02/20/opinion/ber...\n",
              "5            Bernie Sanders Wins the Nevada Caucuses  ...  https://www.nytimes.com/video/us/elections/100...\n",
              "6        Bernie Sanders Confronts ‘Bad Vote’ on Guns  ...  https://www.nytimes.com/video/us/elections/100...\n",
              "7                          President Bernie Sanders?  ...  https://www.nytimes.com/2020/02/11/opinion/ber...\n",
              "8  Tonight’s Democratic Debate: Everyone vs. Bern...  ...  https://www.nytimes.com/interactive/2020/02/25...\n",
              "9          Full Video: Bernie Sanders Rally in Texas  ...  https://www.nytimes.com/video/us/elections/100...\n",
              "\n",
              "[10 rows x 6 columns]"
            ]
          },
          "metadata": {
            "tags": []
          },
          "execution_count": 13
        }
      ]
    },
    {
      "cell_type": "code",
      "metadata": {
        "id": "FJtbHTEqqu3o",
        "colab_type": "code",
        "outputId": "88b3f630-5726-46dd-a87a-2276d5115bf0",
        "colab": {
          "base_uri": "https://localhost:8080/",
          "height": 355
        }
      },
      "source": [
        "reutpd"
      ],
      "execution_count": 14,
      "outputs": [
        {
          "output_type": "execute_result",
          "data": {
            "text/html": [
              "<div>\n",
              "<style scoped>\n",
              "    .dataframe tbody tr th:only-of-type {\n",
              "        vertical-align: middle;\n",
              "    }\n",
              "\n",
              "    .dataframe tbody tr th {\n",
              "        vertical-align: top;\n",
              "    }\n",
              "\n",
              "    .dataframe thead th {\n",
              "        text-align: right;\n",
              "    }\n",
              "</style>\n",
              "<table border=\"1\" class=\"dataframe\">\n",
              "  <thead>\n",
              "    <tr style=\"text-align: right;\">\n",
              "      <th></th>\n",
              "      <th>Headlines</th>\n",
              "      <th>Score</th>\n",
              "      <th>Score2</th>\n",
              "      <th>Average Score</th>\n",
              "      <th>Review</th>\n",
              "      <th>Links</th>\n",
              "    </tr>\n",
              "  </thead>\n",
              "  <tbody>\n",
              "    <tr>\n",
              "      <th>0</th>\n",
              "      <td>Breakingviews - Cox: Who’s afraid of a Preside...</td>\n",
              "      <td>0.0000</td>\n",
              "      <td>-0.600000</td>\n",
              "      <td>-0.300000</td>\n",
              "      <td>Negative</td>\n",
              "      <td>https://www.reuters.com/article/us-usa-politic...</td>\n",
              "    </tr>\n",
              "    <tr>\n",
              "      <th>1</th>\n",
              "      <td>False claim: Photo shows Bernie Sanders at 196...</td>\n",
              "      <td>-0.5106</td>\n",
              "      <td>-0.400000</td>\n",
              "      <td>-0.455300</td>\n",
              "      <td>Negative</td>\n",
              "      <td>https://www.reuters.com/article/idUSKCN20K1PH</td>\n",
              "    </tr>\n",
              "    <tr>\n",
              "      <th>2</th>\n",
              "      <td>Bernie Sanders 'up and about,' will be in next...</td>\n",
              "      <td>0.0000</td>\n",
              "      <td>0.000000</td>\n",
              "      <td>0.000000</td>\n",
              "      <td>Neutral</td>\n",
              "      <td>https://www.reuters.com/article/idUSKBN1WI21E</td>\n",
              "    </tr>\n",
              "    <tr>\n",
              "      <th>3</th>\n",
              "      <td>'Nobody likes him': Hillary Clinton bashes Ber...</td>\n",
              "      <td>0.4215</td>\n",
              "      <td>0.000000</td>\n",
              "      <td>0.210750</td>\n",
              "      <td>Positive</td>\n",
              "      <td>https://www.reuters.com/article/idUSKBN1ZK233</td>\n",
              "    </tr>\n",
              "    <tr>\n",
              "      <th>4</th>\n",
              "      <td>UPDATE 2-'Nobody likes him' - Hillary Clinton ...</td>\n",
              "      <td>0.4215</td>\n",
              "      <td>0.000000</td>\n",
              "      <td>0.210750</td>\n",
              "      <td>Positive</td>\n",
              "      <td>https://www.reuters.com/article/idUSL1N29Q0WK</td>\n",
              "    </tr>\n",
              "    <tr>\n",
              "      <th>5</th>\n",
              "      <td>Florida man gets 15 months for threatening to ...</td>\n",
              "      <td>-0.8442</td>\n",
              "      <td>0.000000</td>\n",
              "      <td>-0.422100</td>\n",
              "      <td>Negative</td>\n",
              "      <td>https://www.reuters.com/article/idUSKCN1VD2AG</td>\n",
              "    </tr>\n",
              "    <tr>\n",
              "      <th>6</th>\n",
              "      <td>Bernie Sanders: Will not scale down campaign a...</td>\n",
              "      <td>-0.4767</td>\n",
              "      <td>-0.155556</td>\n",
              "      <td>-0.316128</td>\n",
              "      <td>Negative</td>\n",
              "      <td>https://www.reuters.com/article/idUSKBN1WO2TX</td>\n",
              "    </tr>\n",
              "    <tr>\n",
              "      <th>7</th>\n",
              "      <td>Bernie Sanders proposes canceling $81 billion ...</td>\n",
              "      <td>-0.3612</td>\n",
              "      <td>0.000000</td>\n",
              "      <td>-0.180600</td>\n",
              "      <td>Negative</td>\n",
              "      <td>https://www.reuters.com/article/idUSKCN1VL0QL</td>\n",
              "    </tr>\n",
              "    <tr>\n",
              "      <th>8</th>\n",
              "      <td>Bernie Sanders accuses Walmart of paying 'star...</td>\n",
              "      <td>-0.3400</td>\n",
              "      <td>0.000000</td>\n",
              "      <td>-0.170000</td>\n",
              "      <td>Negative</td>\n",
              "      <td>https://www.reuters.com/article/idUSL2N23C0W9</td>\n",
              "    </tr>\n",
              "    <tr>\n",
              "      <th>9</th>\n",
              "      <td>How Bernie Sanders’ passionate base revitalize...</td>\n",
              "      <td>0.5267</td>\n",
              "      <td>-0.425000</td>\n",
              "      <td>0.050850</td>\n",
              "      <td>Positive</td>\n",
              "      <td>https://www.reuters.com/article/idUSKBN2030CL</td>\n",
              "    </tr>\n",
              "  </tbody>\n",
              "</table>\n",
              "</div>"
            ],
            "text/plain": [
              "                                           Headlines  ...                                              Links\n",
              "0  Breakingviews - Cox: Who’s afraid of a Preside...  ...  https://www.reuters.com/article/us-usa-politic...\n",
              "1  False claim: Photo shows Bernie Sanders at 196...  ...      https://www.reuters.com/article/idUSKCN20K1PH\n",
              "2  Bernie Sanders 'up and about,' will be in next...  ...      https://www.reuters.com/article/idUSKBN1WI21E\n",
              "3  'Nobody likes him': Hillary Clinton bashes Ber...  ...      https://www.reuters.com/article/idUSKBN1ZK233\n",
              "4  UPDATE 2-'Nobody likes him' - Hillary Clinton ...  ...      https://www.reuters.com/article/idUSL1N29Q0WK\n",
              "5  Florida man gets 15 months for threatening to ...  ...      https://www.reuters.com/article/idUSKCN1VD2AG\n",
              "6  Bernie Sanders: Will not scale down campaign a...  ...      https://www.reuters.com/article/idUSKBN1WO2TX\n",
              "7  Bernie Sanders proposes canceling $81 billion ...  ...      https://www.reuters.com/article/idUSKCN1VL0QL\n",
              "8  Bernie Sanders accuses Walmart of paying 'star...  ...      https://www.reuters.com/article/idUSL2N23C0W9\n",
              "9  How Bernie Sanders’ passionate base revitalize...  ...      https://www.reuters.com/article/idUSKBN2030CL\n",
              "\n",
              "[10 rows x 6 columns]"
            ]
          },
          "metadata": {
            "tags": []
          },
          "execution_count": 14
        }
      ]
    },
    {
      "cell_type": "code",
      "metadata": {
        "id": "Gj5A9v9ZIKyO",
        "colab_type": "code",
        "colab": {}
      },
      "source": [
        "reuhls = reutpd[\"Headlines\"].values\n",
        "reulinks = reutpd[\"Links\"].values"
      ],
      "execution_count": 0,
      "outputs": []
    },
    {
      "cell_type": "code",
      "metadata": {
        "id": "D-BF_qjnJFdr",
        "colab_type": "code",
        "outputId": "3ffc1d65-3f95-402d-bd7a-62aadd55a3aa",
        "colab": {
          "base_uri": "https://localhost:8080/",
          "height": 211
        }
      },
      "source": [
        "reulinks"
      ],
      "execution_count": 16,
      "outputs": [
        {
          "output_type": "execute_result",
          "data": {
            "text/plain": [
              "array(['https://www.reuters.com/article/us-usa-politics-sanders-breakingviews/breakingviews-cox-whos-afraid-of-a-president-bernie-sanders-idUSKBN1ZX20B',\n",
              "       'https://www.reuters.com/article/idUSKCN20K1PH',\n",
              "       'https://www.reuters.com/article/idUSKBN1WI21E',\n",
              "       'https://www.reuters.com/article/idUSKBN1ZK233',\n",
              "       'https://www.reuters.com/article/idUSL1N29Q0WK',\n",
              "       'https://www.reuters.com/article/idUSKCN1VD2AG',\n",
              "       'https://www.reuters.com/article/idUSKBN1WO2TX',\n",
              "       'https://www.reuters.com/article/idUSKCN1VL0QL',\n",
              "       'https://www.reuters.com/article/idUSL2N23C0W9',\n",
              "       'https://www.reuters.com/article/idUSKBN2030CL'], dtype=object)"
            ]
          },
          "metadata": {
            "tags": []
          },
          "execution_count": 16
        }
      ]
    },
    {
      "cell_type": "code",
      "metadata": {
        "id": "obwEeZobP-BT",
        "colab_type": "code",
        "colab": {}
      },
      "source": [
        "pge = requests.get(reulinks[1])\n",
        "soup = BeautifulSoup(pge.content, 'html.parser')\n",
        "t = soup.find('div', attrs={'class':'StandardArticleBody_body'})"
      ],
      "execution_count": 0,
      "outputs": []
    },
    {
      "cell_type": "code",
      "metadata": {
        "id": "9CtExhy8MEds",
        "colab_type": "code",
        "colab": {
          "base_uri": "https://localhost:8080/",
          "height": 191
        },
        "outputId": "522a30b8-2321-42c2-c493-c818ec6e6cac"
      },
      "source": [
        "text = []\n",
        "for l in reulinks:\n",
        "  print(l)\n",
        "  pge = requests.get(l)\n",
        "  soup = BeautifulSoup(pge.content, 'html.parser')\n",
        "  t = soup.find('div', attrs={'class':'StandardArticleBody_body'})\n",
        "  text.append(t.text)"
      ],
      "execution_count": 18,
      "outputs": [
        {
          "output_type": "stream",
          "text": [
            "https://www.reuters.com/article/us-usa-politics-sanders-breakingviews/breakingviews-cox-whos-afraid-of-a-president-bernie-sanders-idUSKBN1ZX20B\n",
            "https://www.reuters.com/article/idUSKCN20K1PH\n",
            "https://www.reuters.com/article/idUSKBN1WI21E\n",
            "https://www.reuters.com/article/idUSKBN1ZK233\n",
            "https://www.reuters.com/article/idUSL1N29Q0WK\n",
            "https://www.reuters.com/article/idUSKCN1VD2AG\n",
            "https://www.reuters.com/article/idUSKBN1WO2TX\n",
            "https://www.reuters.com/article/idUSKCN1VL0QL\n",
            "https://www.reuters.com/article/idUSL2N23C0W9\n",
            "https://www.reuters.com/article/idUSKBN2030CL\n"
          ],
          "name": "stdout"
        }
      ]
    },
    {
      "cell_type": "code",
      "metadata": {
        "id": "jR32ETKMOSjH",
        "colab_type": "code",
        "colab": {}
      },
      "source": [
        "r1 = re.compile(\"[.;:!\\'?,\\\"()\\[\\]]\")\n",
        "r2 = re.compile(\"(<br\\s*/><br\\s*/>)|(\\-)|(\\/)\")\n",
        "\n",
        "def process(text):\n",
        "  text = [r1.sub(\"\", t.lower()) for t in text]\n",
        "  text = [r2.sub(\" \", t) for t in text]\n",
        "  return text"
      ],
      "execution_count": 0,
      "outputs": []
    },
    {
      "cell_type": "code",
      "metadata": {
        "id": "BPFg7YUZb5V8",
        "colab_type": "code",
        "colab": {}
      },
      "source": [
        "text = process(text)"
      ],
      "execution_count": 0,
      "outputs": []
    },
    {
      "cell_type": "code",
      "metadata": {
        "id": "DoGDhGslcQdc",
        "colab_type": "code",
        "outputId": "03b94c2f-bfa8-4d21-e8b6-71a116ce268f",
        "colab": {
          "base_uri": "https://localhost:8080/",
          "height": 69
        }
      },
      "source": [
        "nltk.download(\"gutenberg\")"
      ],
      "execution_count": 21,
      "outputs": [
        {
          "output_type": "stream",
          "text": [
            "[nltk_data] Downloading package gutenberg to /root/nltk_data...\n",
            "[nltk_data]   Unzipping corpora/gutenberg.zip.\n"
          ],
          "name": "stdout"
        },
        {
          "output_type": "execute_result",
          "data": {
            "text/plain": [
              "True"
            ]
          },
          "metadata": {
            "tags": []
          },
          "execution_count": 21
        }
      ]
    },
    {
      "cell_type": "code",
      "metadata": {
        "id": "GeMBx5GEsD1p",
        "colab_type": "code",
        "outputId": "97def9f4-8c27-4782-c5f0-f2840cca4118",
        "colab": {
          "base_uri": "https://localhost:8080/",
          "height": 69
        }
      },
      "source": [
        "nltk.download('punkt')"
      ],
      "execution_count": 22,
      "outputs": [
        {
          "output_type": "stream",
          "text": [
            "[nltk_data] Downloading package punkt to /root/nltk_data...\n",
            "[nltk_data]   Unzipping tokenizers/punkt.zip.\n"
          ],
          "name": "stdout"
        },
        {
          "output_type": "execute_result",
          "data": {
            "text/plain": [
              "True"
            ]
          },
          "metadata": {
            "tags": []
          },
          "execution_count": 22
        }
      ]
    },
    {
      "cell_type": "code",
      "metadata": {
        "id": "vRl5gJ9bxIew",
        "colab_type": "code",
        "outputId": "a6a06cb6-8eab-4b3c-df42-13c27fa5d5eb",
        "colab": {
          "base_uri": "https://localhost:8080/",
          "height": 69
        }
      },
      "source": [
        "nltk.download('stopwords')"
      ],
      "execution_count": 23,
      "outputs": [
        {
          "output_type": "stream",
          "text": [
            "[nltk_data] Downloading package stopwords to /root/nltk_data...\n",
            "[nltk_data]   Unzipping corpora/stopwords.zip.\n"
          ],
          "name": "stdout"
        },
        {
          "output_type": "execute_result",
          "data": {
            "text/plain": [
              "True"
            ]
          },
          "metadata": {
            "tags": []
          },
          "execution_count": 23
        }
      ]
    },
    {
      "cell_type": "code",
      "metadata": {
        "id": "BVFlYFNvpnfu",
        "colab_type": "code",
        "colab": {}
      },
      "source": [
        "def insttext(textarray):\n",
        "  tokens = nltk.tokenize.word_tokenize(textarray)\n",
        "  t1 = Text(tokens)\n",
        "  return t1"
      ],
      "execution_count": 0,
      "outputs": []
    },
    {
      "cell_type": "code",
      "metadata": {
        "id": "akaO6270RRlu",
        "colab_type": "code",
        "colab": {}
      },
      "source": [
        "t1 = insttext(text[0])"
      ],
      "execution_count": 0,
      "outputs": []
    },
    {
      "cell_type": "code",
      "metadata": {
        "id": "GYqN5XknqaPB",
        "colab_type": "code",
        "outputId": "922192b8-199d-48a7-c1f2-3320a4052bb3",
        "colab": {
          "base_uri": "https://localhost:8080/",
          "height": 295
        }
      },
      "source": [
        "t1.dispersion_plot([\"sanders\", \"trump\", \"biden\", \"hillary\", \"clinton\", \"socialist\", \"communism\", \"communist\"])"
      ],
      "execution_count": 26,
      "outputs": [
        {
          "output_type": "display_data",
          "data": {
            "image/png": "[encoded data removed]",
            "text/plain": [
              "<Figure size 432x288 with 1 Axes>"
            ]
          },
          "metadata": {
            "tags": []
          }
        }
      ]
    },
    {
      "cell_type": "code",
      "metadata": {
        "id": "5c2Y3T0HqcG7",
        "colab_type": "code",
        "outputId": "0a0a30cf-a624-4e5d-802e-c9521afb1d52",
        "colab": {
          "base_uri": "https://localhost:8080/",
          "height": 69
        }
      },
      "source": [
        "t1.concordance(\"socialist\")"
      ],
      "execution_count": 27,
      "outputs": [
        {
          "output_type": "stream",
          "text": [
            "Displaying 2 of 2 matches:\n",
            "rlier elected him the first avowed socialist mayor of a biggish american city d\n",
            "more marxist he campaigned for the socialist workers party which admired leon t\n"
          ],
          "name": "stdout"
        }
      ]
    },
    {
      "cell_type": "code",
      "metadata": {
        "id": "q9XzEYwKxDXo",
        "colab_type": "code",
        "outputId": "31869b77-c722-4927-be16-bfec3b061076",
        "colab": {
          "base_uri": "https://localhost:8080/",
          "height": 52
        }
      },
      "source": [
        "t1.concordance(\"communist\")"
      ],
      "execution_count": 28,
      "outputs": [
        {
          "output_type": "stream",
          "text": [
            "Displaying 1 of 1 matches:\n",
            "perhaps communitarian but far from communist maybe he used his sympathies with \n"
          ],
          "name": "stdout"
        }
      ]
    },
    {
      "cell_type": "code",
      "metadata": {
        "id": "Gi5GtgqV0OnH",
        "colab_type": "code",
        "colab": {
          "base_uri": "https://localhost:8080/",
          "height": 69
        },
        "outputId": "91cd73a8-9f16-4f6c-e0fc-c8a97ab185a4"
      },
      "source": [
        "t1.concordance(\"trump\")"
      ],
      "execution_count": 33,
      "outputs": [
        {
          "output_type": "stream",
          "text": [
            "Displaying 2 of 2 matches:\n",
            "termine who gets to challenge donald trump for the presidency in november if he\n",
            "ation – the way republicans have for trump ’ s supreme court nominations – he w\n"
          ],
          "name": "stdout"
        }
      ]
    },
    {
      "cell_type": "code",
      "metadata": {
        "id": "wowhdEfV1ijh",
        "colab_type": "code",
        "colab": {}
      },
      "source": [
        ""
      ],
      "execution_count": 0,
      "outputs": []
    }
  ]
}