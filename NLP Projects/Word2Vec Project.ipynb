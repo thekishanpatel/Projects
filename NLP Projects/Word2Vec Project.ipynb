{
  "nbformat": 4,
  "nbformat_minor": 0,
  "metadata": {
    "colab": {
      "name": "word2vec.ipynb",
      "provenance": [],
      "collapsed_sections": [],
      "toc_visible": true
    },
    "kernelspec": {
      "name": "python3",
      "display_name": "Python 3"
    }
  },
  "cells": [
    {
      "cell_type": "markdown",
      "metadata": {
        "id": "sRBQ9nMJOZMR",
        "colab_type": "text"
      },
      "source": [
        "# **Word2Vec Model**\n",
        "\n",
        "If you peeked at my 'News Headlines and NLP,' project, you might have noticed that I mentioned that the pre-trained models--NLTK's Vader Sentiment Analyzer and TextBlob--are not particularly good at understanding context. This is where **Word Embeddings** come in. \n",
        "\n",
        "One of the most famous word embedding models is the Word2Vec model, which was developed by Google. Word2Vec creates vector representations of words using a neural network. As opposed to One-Hot-Encoding representation of text--where each word is independent of another--Word2Vec representations are created by taking surrounding words into context. ***Distributed Representation***--meaning each word, along with its representation, is dependent on another word(s). We leverage the context as well, and ultimately end up with vector representation of words--where similar words are grouped togather.\n",
        "\n",
        "**Scope:** *In this project, we create word2vec representations of words from two datasets--Fake News and Real News--and determine if the represenations differ from one-another. To test the difference, we examine the Top-5 similar words--defined by Cosine Similarities--to our list of query words.*"
      ]
    },
    {
      "cell_type": "markdown",
      "metadata": {
        "id": "3YzubmX-eTXA",
        "colab_type": "text"
      },
      "source": [
        "# **Import Libraries**"
      ]
    },
    {
      "cell_type": "code",
      "metadata": {
        "id": "qXMDZJ-yeSFD",
        "colab_type": "code",
        "colab": {}
      },
      "source": [
        "import pandas as pd\n",
        "import numpy as np\n",
        "from numpy import dot\n",
        "from numpy.linalg import norm\n",
        "import gensim as gn\n",
        "from gensim.models import Word2Vec"
      ],
      "execution_count": 0,
      "outputs": []
    },
    {
      "cell_type": "markdown",
      "metadata": {
        "id": "rcgidW7JcQeo",
        "colab_type": "text"
      },
      "source": [
        "# **Import Data**"
      ]
    },
    {
      "cell_type": "code",
      "metadata": {
        "id": "HLuoqAeBhumv",
        "colab_type": "code",
        "colab": {}
      },
      "source": [
        "data_dir = '/content/Fake news/fake_or_real_news.csv'\n",
        "model_fname = 'word2vec_fake.model'\n",
        "model_rname = 'word2vec_real.model'"
      ],
      "execution_count": 0,
      "outputs": []
    },
    {
      "cell_type": "code",
      "metadata": {
        "id": "qJRmwPjSqeNz",
        "colab_type": "code",
        "colab": {}
      },
      "source": [
        "data = pd.read_csv(data_dir)"
      ],
      "execution_count": 0,
      "outputs": []
    },
    {
      "cell_type": "code",
      "metadata": {
        "id": "zRYlhOjGqhsF",
        "colab_type": "code",
        "colab": {}
      },
      "source": [
        "data[\"text\"] = data[\"title\"].map(str) + data[\"text\"]\n",
        "data = data.loc[:,['text','label']]\n",
        "data['label'] = data['label'].apply(lambda x: 1 if x=='FAKE' else 0)"
      ],
      "execution_count": 0,
      "outputs": []
    },
    {
      "cell_type": "code",
      "metadata": {
        "id": "An6cEPUFqtee",
        "colab_type": "code",
        "outputId": "cdc94e7f-d4ee-4a8c-993a-16c47c1b454d",
        "colab": {
          "base_uri": "https://localhost:8080/",
          "height": 359
        }
      },
      "source": [
        "data.head(10)"
      ],
      "execution_count": 8,
      "outputs": [
        {
          "output_type": "execute_result",
          "data": {
            "text/html": [
              "<div>\n",
              "<style scoped>\n",
              "    .dataframe tbody tr th:only-of-type {\n",
              "        vertical-align: middle;\n",
              "    }\n",
              "\n",
              "    .dataframe tbody tr th {\n",
              "        vertical-align: top;\n",
              "    }\n",
              "\n",
              "    .dataframe thead th {\n",
              "        text-align: right;\n",
              "    }\n",
              "</style>\n",
              "<table border=\"1\" class=\"dataframe\">\n",
              "  <thead>\n",
              "    <tr style=\"text-align: right;\">\n",
              "      <th></th>\n",
              "      <th>text</th>\n",
              "      <th>label</th>\n",
              "    </tr>\n",
              "  </thead>\n",
              "  <tbody>\n",
              "    <tr>\n",
              "      <th>0</th>\n",
              "      <td>You Can Smell Hillary’s FearDaniel Greenfield,...</td>\n",
              "      <td>1</td>\n",
              "    </tr>\n",
              "    <tr>\n",
              "      <th>1</th>\n",
              "      <td>Watch The Exact Moment Paul Ryan Committed Pol...</td>\n",
              "      <td>1</td>\n",
              "    </tr>\n",
              "    <tr>\n",
              "      <th>2</th>\n",
              "      <td>Kerry to go to Paris in gesture of sympathyU.S...</td>\n",
              "      <td>0</td>\n",
              "    </tr>\n",
              "    <tr>\n",
              "      <th>3</th>\n",
              "      <td>Bernie supporters on Twitter erupt in anger ag...</td>\n",
              "      <td>1</td>\n",
              "    </tr>\n",
              "    <tr>\n",
              "      <th>4</th>\n",
              "      <td>The Battle of New York: Why This Primary Matte...</td>\n",
              "      <td>0</td>\n",
              "    </tr>\n",
              "    <tr>\n",
              "      <th>5</th>\n",
              "      <td>Tehran, USA  \\nI’m not an immigrant, but my gr...</td>\n",
              "      <td>1</td>\n",
              "    </tr>\n",
              "    <tr>\n",
              "      <th>6</th>\n",
              "      <td>Girl Horrified At What She Watches Boyfriend D...</td>\n",
              "      <td>1</td>\n",
              "    </tr>\n",
              "    <tr>\n",
              "      <th>7</th>\n",
              "      <td>‘Britain’s Schindler’ Dies at 106A Czech stock...</td>\n",
              "      <td>0</td>\n",
              "    </tr>\n",
              "    <tr>\n",
              "      <th>8</th>\n",
              "      <td>Fact check: Trump and Clinton at the 'commande...</td>\n",
              "      <td>0</td>\n",
              "    </tr>\n",
              "    <tr>\n",
              "      <th>9</th>\n",
              "      <td>Iran reportedly makes new push for uranium con...</td>\n",
              "      <td>0</td>\n",
              "    </tr>\n",
              "  </tbody>\n",
              "</table>\n",
              "</div>"
            ],
            "text/plain": [
              "                                                text  label\n",
              "0  You Can Smell Hillary’s FearDaniel Greenfield,...      1\n",
              "1  Watch The Exact Moment Paul Ryan Committed Pol...      1\n",
              "2  Kerry to go to Paris in gesture of sympathyU.S...      0\n",
              "3  Bernie supporters on Twitter erupt in anger ag...      1\n",
              "4  The Battle of New York: Why This Primary Matte...      0\n",
              "5  Tehran, USA  \\nI’m not an immigrant, but my gr...      1\n",
              "6  Girl Horrified At What She Watches Boyfriend D...      1\n",
              "7  ‘Britain’s Schindler’ Dies at 106A Czech stock...      0\n",
              "8  Fact check: Trump and Clinton at the 'commande...      0\n",
              "9  Iran reportedly makes new push for uranium con...      0"
            ]
          },
          "metadata": {
            "tags": []
          },
          "execution_count": 8
        }
      ]
    },
    {
      "cell_type": "markdown",
      "metadata": {
        "id": "oDoqFA78cat4",
        "colab_type": "text"
      },
      "source": [
        "# **Split and Clean the Dataset**\n",
        "\n",
        "Since both the ***Real*** and ***Fake*** news are in the same DataFrame, here we split the DataFrame into 2 separate frames because we will be preparing a word2vec representation of each separately. Also, whereas in the previous project we wrote a method to clean the text, the ***Gensim*** library offers us the '***simple_preprocess***' method that does this for us. We do need to create a method to remove our stop-words. The '***simple_preprocess***' method also splits our text into an array of arrays--the tokenized form we need to use the Gensim Word2Vec model."
      ]
    },
    {
      "cell_type": "code",
      "metadata": {
        "id": "OCpQHQuQtfwu",
        "colab_type": "code",
        "colab": {}
      },
      "source": [
        "def remove_stop_words(text):\n",
        "  stop_words = ['mr', 'mrs', 'ms', 'his', 'her', 'he', 'she', 'himself', 'herself']\n",
        "  clean = [word for word in text if (word not in stop_words) and (len(word) > 1)]\n",
        "  return clean  "
      ],
      "execution_count": 0,
      "outputs": []
    },
    {
      "cell_type": "code",
      "metadata": {
        "id": "4pVBf4aFqugE",
        "colab_type": "code",
        "colab": {}
      },
      "source": [
        "fake_data = data.loc[data['label']==1]\n",
        "real_data = data.loc[data['label']==0]"
      ],
      "execution_count": 0,
      "outputs": []
    },
    {
      "cell_type": "code",
      "metadata": {
        "id": "0okYYRKeKD8d",
        "colab_type": "code",
        "colab": {}
      },
      "source": [
        "fake_text = list(fake_data['text'])\n",
        "real_text = list(real_data['text'])"
      ],
      "execution_count": 0,
      "outputs": []
    },
    {
      "cell_type": "code",
      "metadata": {
        "id": "-3mk0QyoF-Ii",
        "colab_type": "code",
        "colab": {}
      },
      "source": [
        "fake_text_list = []\n",
        "for article in fake_text:\n",
        "  fake_text_list.append(remove_stop_words(list(gn.utils.simple_preprocess(article))))"
      ],
      "execution_count": 0,
      "outputs": []
    },
    {
      "cell_type": "code",
      "metadata": {
        "id": "KAMMT5UHMvel",
        "colab_type": "code",
        "colab": {}
      },
      "source": [
        "real_text_list = []\n",
        "for article in real_text:\n",
        "  real_text_list.append(remove_stop_words(list(gn.utils.simple_preprocess(article))))"
      ],
      "execution_count": 0,
      "outputs": []
    },
    {
      "cell_type": "markdown",
      "metadata": {
        "id": "g7eUOjNaePR6",
        "colab_type": "text"
      },
      "source": [
        "# **Building the Word2Vec Models**"
      ]
    },
    {
      "cell_type": "code",
      "metadata": {
        "id": "igI5LReU6hHV",
        "colab_type": "code",
        "colab": {}
      },
      "source": [
        "word2vec_fake = gn.models.Word2Vec(fake_text_list, size = 75, window = 3, min_count = 5, iter = 15)"
      ],
      "execution_count": 0,
      "outputs": []
    },
    {
      "cell_type": "code",
      "metadata": {
        "id": "kvo3biGrNRlW",
        "colab_type": "code",
        "colab": {}
      },
      "source": [
        "word2vec_real = gn.models.Word2Vec(real_text_list, size = 75, window = 3, min_count = 5, iter = 15)"
      ],
      "execution_count": 0,
      "outputs": []
    },
    {
      "cell_type": "code",
      "metadata": {
        "id": "lRlRRfB76yAJ",
        "colab_type": "code",
        "outputId": "b4ba7524-95c1-48d8-82ba-e605212e8134",
        "colab": {
          "base_uri": "https://localhost:8080/",
          "height": 190
        }
      },
      "source": [
        "print(\"The 5 Most similar Words to 'Hillary' Using the built-in Function (Fake News):\\n\")\n",
        "word2vec_fake.wv.most_similar(positive='hillary', topn = 5)"
      ],
      "execution_count": 34,
      "outputs": [
        {
          "output_type": "stream",
          "text": [
            "The 5 Most similar Words to 'Hillary' Using the built-in Function (Fake News):\n",
            "\n"
          ],
          "name": "stdout"
        },
        {
          "output_type": "stream",
          "text": [
            "/usr/local/lib/python3.6/dist-packages/gensim/matutils.py:737: FutureWarning: Conversion of the second argument of issubdtype from `int` to `np.signedinteger` is deprecated. In future, it will be treated as `np.int64 == np.dtype(int).type`.\n",
            "  if np.issubdtype(vec.dtype, np.int):\n"
          ],
          "name": "stderr"
        },
        {
          "output_type": "execute_result",
          "data": {
            "text/plain": [
              "[('hilary', 0.6196736097335815),\n",
              " ('foundation', 0.603364109992981),\n",
              " ('trump', 0.5960244536399841),\n",
              " ('killary', 0.5486205816268921),\n",
              " ('bill', 0.5370841026306152)]"
            ]
          },
          "metadata": {
            "tags": []
          },
          "execution_count": 34
        }
      ]
    },
    {
      "cell_type": "code",
      "metadata": {
        "id": "biyClu_BCxzA",
        "colab_type": "code",
        "outputId": "80834f56-d9d4-4ce2-9426-8617ba9c0a64",
        "colab": {
          "base_uri": "https://localhost:8080/",
          "height": 190
        }
      },
      "source": [
        "print(\"The 5 Most similar Words to 'Hillary' Using the built-in Function (Real News):\\n\")\n",
        "(word2vec_real.wv.most_similar(positive='hillary', topn = 5))"
      ],
      "execution_count": 36,
      "outputs": [
        {
          "output_type": "stream",
          "text": [
            "The 5 Most similar Words to 'Hillary' Using the built-in Function (Real News):\n",
            "\n"
          ],
          "name": "stdout"
        },
        {
          "output_type": "stream",
          "text": [
            "/usr/local/lib/python3.6/dist-packages/gensim/matutils.py:737: FutureWarning: Conversion of the second argument of issubdtype from `int` to `np.signedinteger` is deprecated. In future, it will be treated as `np.int64 == np.dtype(int).type`.\n",
            "  if np.issubdtype(vec.dtype, np.int):\n"
          ],
          "name": "stderr"
        },
        {
          "output_type": "execute_result",
          "data": {
            "text/plain": [
              "[('sanders', 0.6123138070106506),\n",
              " ('trump', 0.5801287293434143),\n",
              " ('bill', 0.5583798885345459),\n",
              " ('husband', 0.4913654029369354),\n",
              " ('chelsea', 0.48292475938796997)]"
            ]
          },
          "metadata": {
            "tags": []
          },
          "execution_count": 36
        }
      ]
    },
    {
      "cell_type": "markdown",
      "metadata": {
        "id": "nQphRg_QfYni",
        "colab_type": "text"
      },
      "source": [
        "# **Saving and Loading Model**\n",
        "The following step isn't necessary, unless you want to save and load the models later."
      ]
    },
    {
      "cell_type": "code",
      "metadata": {
        "id": "Hjm4Wqk56NME",
        "colab_type": "code",
        "colab": {
          "base_uri": "https://localhost:8080/",
          "height": 71
        },
        "outputId": "cdb7c898-1040-4e31-b6db-226bd4801651"
      },
      "source": [
        "word2vec_fake.save(model_fname)\n",
        "word2vec_real.save(model_rname)\n",
        "word2vec_fake = Word2Vec.load(model_fname)\n",
        "word2vec_real = Word2Vec.load(model_rname)"
      ],
      "execution_count": 37,
      "outputs": [
        {
          "output_type": "stream",
          "text": [
            "/usr/local/lib/python3.6/dist-packages/smart_open/smart_open_lib.py:253: UserWarning: This function is deprecated, use smart_open.open instead. See the migration notes for details: https://github.com/RaRe-Technologies/smart_open/blob/master/README.rst#migrating-to-the-new-open-function\n",
            "  'See the migration notes for details: %s' % _MIGRATION_NOTES_URL\n"
          ],
          "name": "stderr"
        }
      ]
    },
    {
      "cell_type": "markdown",
      "metadata": {
        "id": "VkEOTtZ9f2tw",
        "colab_type": "text"
      },
      "source": [
        "# **Loading The Query File**\n",
        "\n",
        "The query words were stored in a separate text file, so they can be easily changed without editing the code."
      ]
    },
    {
      "cell_type": "code",
      "metadata": {
        "id": "IDBApZVdmwJS",
        "colab_type": "code",
        "colab": {}
      },
      "source": [
        "query_dir = '/content/query.txt'\n",
        "f = open(query_dir)\n",
        "l = f.readline()\n",
        "query_words = []\n",
        "while(l != \"\"):\n",
        "  l = l.split()\n",
        "  query_words.append(l[0].lower())\n",
        "  l = f.readline()\n",
        "f.close()"
      ],
      "execution_count": 0,
      "outputs": []
    },
    {
      "cell_type": "markdown",
      "metadata": {
        "id": "uKN3BT8UgMsf",
        "colab_type": "text"
      },
      "source": [
        "# **Cosine Similarity**\n",
        "\n",
        "***Cosine Similarity*** is a measure of similarity between two non-zero vectors. As mentioned earlier, in Word2Vec representations, similar words are grouped closer together. We can use cosine similarity to determine if two datasets are different from one-another--if the neighboring words in the vector space are different in the word2vec representations of the two models. \n",
        "*(i.e: if the neighboring words to a particular word--say 'immigration'--in the Fake News word2vec representation are different than the neighboring words in the Real News word2vec representation)*"
      ]
    },
    {
      "cell_type": "code",
      "metadata": {
        "id": "VrbWMdHraRU3",
        "colab_type": "code",
        "colab": {}
      },
      "source": [
        "def cosine_similarity(model, query, top_num):\n",
        "  cosine_sim = {}\n",
        "  vocab = list(model.wv.vocab)\n",
        "  a = model[query]\n",
        "  norma = norm(a)\n",
        "  for v in vocab:\n",
        "    if v != query:\n",
        "      b = model[v]\n",
        "      sim = np.dot(a,b)/(norma*norm(b))\n",
        "      cosine_sim[v] = sim\n",
        "  cosine_sim = sorted(cosine_sim.items(), key = lambda dist: dist[1], reverse = True)\n",
        "  most_sim = []\n",
        "  i = 0;\n",
        "  for item in cosine_sim:\n",
        "    most_sim.append((item[0], item[1]))\n",
        "    i += 1\n",
        "    if i == top_num:\n",
        "      break\n",
        "  return most_sim"
      ],
      "execution_count": 0,
      "outputs": []
    },
    {
      "cell_type": "markdown",
      "metadata": {
        "id": "3bOa6h37h_1E",
        "colab_type": "text"
      },
      "source": [
        "## **Normalizing Vectors**\n",
        "To use Cosine Similarity, we must normalize the vectors."
      ]
    },
    {
      "cell_type": "code",
      "metadata": {
        "id": "KJ4nt-23EJ2a",
        "colab_type": "code",
        "colab": {}
      },
      "source": [
        "# Normalize Vectors\n",
        "word2vec_fake.init_sims(replace = True)\n",
        "word2vec_real.init_sims(replace = True)"
      ],
      "execution_count": 0,
      "outputs": []
    },
    {
      "cell_type": "code",
      "metadata": {
        "id": "caebXm63yqrV",
        "colab_type": "code",
        "outputId": "755eaaf4-6ea7-427d-d7cd-b7a9402d29a5",
        "colab": {
          "base_uri": "https://localhost:8080/",
          "height": 34
        }
      },
      "source": [
        "print(\"The Query Words Are:\\t{}\".format(query_words))"
      ],
      "execution_count": 31,
      "outputs": [
        {
          "output_type": "stream",
          "text": [
            "The Query Words Are:\t['hillary', 'trump', 'obama', 'immigration']\n"
          ],
          "name": "stdout"
        }
      ]
    },
    {
      "cell_type": "code",
      "metadata": {
        "id": "LXrb9_nFysWZ",
        "colab_type": "code",
        "outputId": "20ce978a-704f-4b79-ae64-47abe859e85c",
        "colab": {
          "base_uri": "https://localhost:8080/",
          "height": 952
        }
      },
      "source": [
        "fo = open(\"Output.txt\", \"w\")\n",
        "print(\"Fake News Data -- Top 5 Similar Words to Query Words\")\n",
        "fo.write(\"Fake News Data -- Top 5 Similar Words to Query Words\\n\")\n",
        "for word in query_words:\n",
        "  sim_words = cosine_similarity(word2vec_fake, word, 5)\n",
        "  print(word)\n",
        "  fo.write(\"\\t{}\\n\".format(word))\n",
        "  for sw in sim_words:\n",
        "    print(\"\\t{}\".format(sw))\n",
        "    fo.write(\"\\t\\t{}\\n\".format(sw))\n",
        "print(\"\\nReal News Data -- Top 5 Similar Words to Query Words\")\n",
        "fo.write(\"\\n\\nReal News Data -- Top 5 Similar Words to Query Words\\n\")\n",
        "for word in query_words:\n",
        "  sim_words = cosine_similarity(word2vec_real, word, 5)\n",
        "  print(word)\n",
        "  fo.write(\"\\t{}\\n\".format(word))\n",
        "  for sw in sim_words:\n",
        "    print(\"\\t{}\".format(sw))\n",
        "    fo.write(\"\\t\\t{}\\n\".format(sw))\n",
        "fo.close()"
      ],
      "execution_count": 39,
      "outputs": [
        {
          "output_type": "stream",
          "text": [
            "Fake News Data -- Top 5 Similar Words to Query Words\n"
          ],
          "name": "stdout"
        },
        {
          "output_type": "stream",
          "text": [
            "/usr/local/lib/python3.6/dist-packages/ipykernel_launcher.py:4: DeprecationWarning: Call to deprecated `__getitem__` (Method will be removed in 4.0.0, use self.wv.__getitem__() instead).\n",
            "  after removing the cwd from sys.path.\n",
            "/usr/local/lib/python3.6/dist-packages/ipykernel_launcher.py:8: DeprecationWarning: Call to deprecated `__getitem__` (Method will be removed in 4.0.0, use self.wv.__getitem__() instead).\n",
            "  \n"
          ],
          "name": "stderr"
        },
        {
          "output_type": "stream",
          "text": [
            "hillary\n",
            "\t('hilary', 0.6196736)\n",
            "\t('foundation', 0.603364)\n",
            "\t('trump', 0.59602445)\n",
            "\t('killary', 0.5486205)\n",
            "\t('bill', 0.5370841)\n",
            "trump\n",
            "\t('hillary', 0.59602445)\n",
            "\t('hrc', 0.5110749)\n",
            "\t('sanders', 0.50072205)\n",
            "\t('bernie', 0.4949449)\n",
            "\t('clinton', 0.49419704)\n",
            "obama\n",
            "\t('bush', 0.5795401)\n",
            "\t('reagan', 0.5775068)\n",
            "\t('congress', 0.49343568)\n",
            "\t('carter', 0.48429)\n",
            "\t('saakashvili', 0.47779813)\n",
            "immigration\n",
            "\t('international', 0.57597435)\n",
            "\t('discrimination', 0.53561467)\n",
            "\t('neoliberal', 0.5291665)\n",
            "\t('tax', 0.52200806)\n",
            "\t('domestic', 0.51336336)\n",
            "\n",
            "Real News Data -- Top 5 Similar Words to Query Words\n",
            "hillary\n",
            "\t('sanders', 0.61231387)\n",
            "\t('trump', 0.5801288)\n",
            "\t('bill', 0.55838)\n",
            "\t('husband', 0.4913655)\n",
            "\t('chelsea', 0.48292473)\n",
            "trump\n",
            "\t('sanders', 0.6144249)\n",
            "\t('hillary', 0.5801288)\n",
            "\t('candidacy', 0.5760898)\n",
            "\t('romney', 0.5731019)\n",
            "\t('mogul', 0.5703247)\n",
            "obama\n",
            "\t('netanyahu', 0.5898408)\n",
            "\t('congress', 0.50710166)\n",
            "\t('hollande', 0.5024687)\n",
            "\t('bush', 0.48952076)\n",
            "\t('sanders', 0.46739402)\n",
            "immigration\n",
            "\t('abortion', 0.6159248)\n",
            "\t('entitlement', 0.5791942)\n",
            "\t('policies', 0.5217627)\n",
            "\t('controversial', 0.51543)\n",
            "\t('proposal', 0.51523846)\n"
          ],
          "name": "stdout"
        }
      ]
    },
    {
      "cell_type": "markdown",
      "metadata": {
        "id": "jWJWSPEejaPr",
        "colab_type": "text"
      },
      "source": [
        "# **Conclusion and Parting Thoughts**\n",
        "\n",
        "If you look at the top-5 most similar words to 'Hillary,' in the Fake News dataset representation, the 4th most similar word is 'Killary.' Suggesting that a bulk of the Fake News articles in our data-set was anti-Hillary rhetoric during the 2016 General Election season. For the other query words, the similarities across the datasets seem to be consistent. \n",
        "\n",
        "But note the magic of the word2vec model. In either dataset representations, the similar words to 'Obama' are either previous Presidents or other world leaders; the similar words to 'Trump' are other Presidential candidates; the similar words to 'Immigration' are other hot-button issues. This is because unlike the models from the previous project, the word2vec model learns from context and surrounding words. *One word is dependent on another word(s).*\n",
        "\n",
        "In this project, we employed a labeled dataset but labeled datasets are often difficult to come across. But luckily, we can use the properties of word embeddings to our advantage. In word2vec models, semantically similar words are grouped closer to one-another in the vector space. We can use this property to cluster and classify observations in an unlabeled dataset. This is the scope of my next NLP project--which is actually a sub-project of larger project involving identifying market opportunities--unsupervised sentiment analysis."
      ]
    }
  ]
}