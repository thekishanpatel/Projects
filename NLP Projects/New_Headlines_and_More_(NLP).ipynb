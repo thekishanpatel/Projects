{
  "nbformat": 4,
  "nbformat_minor": 0,
  "metadata": {
    "colab": {
      "name": "New Headlines and More (NLP).ipynb",
      "provenance": [],
      "collapsed_sections": []
    },
    "kernelspec": {
      "name": "python3",
      "display_name": "Python 3"
    }
  },
  "cells": [
    {
      "cell_type": "markdown",
      "metadata": {
        "id": "BM-BLSJNbTrs",
        "colab_type": "text"
      },
      "source": [
        "# **Natural Language Processing**\n",
        "\n",
        "Machine Learning models, and more broadly Artificial Intelligence applications, are built using ***data***. Traditionally when we think of the data used for machine learning processes, we think of tabular data and/or image data. But as humans, our natural form of communication isn't through tabular data or image data. Our brains can see images, but we use ***words*** to describe these images--not numbers. These ***words*** make up the natural languages--the method of communication for humans.  As computers are now becoming engrained in our lives, the ability to interact with techonology is becoming ever-so-important. ***Natural Language Processing (NLP)*** is the branch of artificial intelligence that concerns with the interaction between computers and humans through the means of natural language.\n"
      ]
    },
    {
      "cell_type": "markdown",
      "metadata": {
        "id": "uvsIH2XKwkXx",
        "colab_type": "text"
      },
      "source": [
        "# **Sentiment Analysis**\n",
        "\n",
        "**Sentiment Analysis** is an application of NLP, which refers to interpreting and classifying emotions in text-data using various text analysis methods.\n",
        "\n",
        "Here I made a simple ***Sentiment Analysis*** tool, which scraps headlines from **NYT** and **Reuters**--based on the search query inputted by the user--and then using pre-trained classifiers outputs a 'Sentiment Score' for each headline. In an age where media is polarized, the objective of this small-scale project was to see if the two news-sources have a pro- or anti- bias for the topic of interest.\n",
        "\n",
        "This small-scale project was a means of learning and exploring the various NLP methods and tools."
      ]
    },
    {
      "cell_type": "markdown",
      "metadata": {
        "id": "wrzvpijsya_H",
        "colab_type": "text"
      },
      "source": [
        "# **Import Libraries**"
      ]
    },
    {
      "cell_type": "code",
      "metadata": {
        "id": "vvu2LBRAJZwY",
        "colab_type": "code",
        "colab": {}
      },
      "source": [
        "# Common Libraries\n",
        "import numpy as np\n",
        "from numpy import dot\n",
        "from numpy.linalg import norm\n",
        "import pandas as pd\n",
        "import matplotlib.pyplot as plt\n",
        "import re as re\n",
        "import time\n",
        "%matplotlib inline\n",
        "\n",
        "# NLP Libraries\n",
        "from textblob import TextBlob\n",
        "import nltk\n",
        "from nltk import *\n",
        "from nltk.text import Text\n",
        "import gensim as gn\n",
        "\n",
        "# Scrapping Libraries\n",
        "import requests\n",
        "from bs4 import BeautifulSoup"
      ],
      "execution_count": 0,
      "outputs": []
    },
    {
      "cell_type": "markdown",
      "metadata": {
        "id": "zvtJGOmwyebt",
        "colab_type": "text"
      },
      "source": [
        "# **Get Topic From User**"
      ]
    },
    {
      "cell_type": "code",
      "metadata": {
        "id": "GqLB3h46ld9_",
        "colab_type": "code",
        "outputId": "badae20d-e57f-48d0-ca4f-34d2b18b7d47",
        "colab": {
          "base_uri": "https://localhost:8080/",
          "height": 34
        }
      },
      "source": [
        "inp = input('Enter topic you want to search:')\n",
        "inp = re.sub(' ', '+', inp)"
      ],
      "execution_count": 108,
      "outputs": [
        {
          "output_type": "stream",
          "text": [
            "Enter topic you want to search:bernie\n"
          ],
          "name": "stdout"
        }
      ]
    },
    {
      "cell_type": "markdown",
      "metadata": {
        "id": "1FR56w5mykSd",
        "colab_type": "text"
      },
      "source": [
        "# **Get the Headlines from the Two Sites**"
      ]
    },
    {
      "cell_type": "markdown",
      "metadata": {
        "id": "mAZCRCVZnUpE",
        "colab_type": "text"
      },
      "source": [
        "Scrapping the news headlines of NYT and Reuters using BeautifulSoap"
      ]
    },
    {
      "cell_type": "code",
      "metadata": {
        "id": "aK3vro0wJzuW",
        "colab_type": "code",
        "colab": {}
      },
      "source": [
        "nytu = 'https://www.nytimes.com/search?query=' + inp\n",
        "nytuparent = 'https://www.nytimes.com'\n",
        "pge = requests.get(nytu)\n",
        "soup = BeautifulSoup(pge.content, 'html.parser')\n",
        "wl = soup.findAll('div', attrs={'class':'css-e1lvw9'})\n",
        "headlines = []\n",
        "links = []\n",
        "for a in wl:\n",
        "  hl = a.find('h4', attrs={'class':'css-2fgx4k'})\n",
        "  link = a.find('a')\n",
        "  headlines.append(hl.get_text())\n",
        "  link = nytuparent + link.get('href')\n",
        "  links.append(link)\n",
        "nytpd = pd.DataFrame({'Headlines' : headlines, 'Links' : links})"
      ],
      "execution_count": 0,
      "outputs": []
    },
    {
      "cell_type": "code",
      "metadata": {
        "id": "JGKbDlExWOS0",
        "colab_type": "code",
        "colab": {}
      },
      "source": [
        "ru = 'https://www.reuters.com/search/news?blob=' + inp\n",
        "ruparent = 'https://www.reuters.com'\n",
        "pge = requests.get(ru)\n",
        "soup = BeautifulSoup(pge.content, 'html.parser')\n",
        "wl1 = soup.findAll('div', attrs={'class':'search-result-content'})\n",
        "headlines = []\n",
        "links = []\n",
        "for a in wl1:\n",
        "  hl = a.find('h3', attrs={'class':'search-result-title'})\n",
        "  link = a.find('a')\n",
        "  link = ruparent + link.get('href')\n",
        "  headlines.append(hl.get_text())\n",
        "  links.append(link)\n",
        "reutpd = pd.DataFrame({'Headlines' : headlines, 'Links' : links})"
      ],
      "execution_count": 0,
      "outputs": []
    },
    {
      "cell_type": "code",
      "metadata": {
        "id": "fFQ3Y9UmllE1",
        "colab_type": "code",
        "colab": {
          "base_uri": "https://localhost:8080/",
          "height": 204
        },
        "outputId": "2a30aca9-9a5b-4ca6-e0e2-4bf7e605abbe"
      },
      "source": [
        "nytpd.head(5)"
      ],
      "execution_count": 111,
      "outputs": [
        {
          "output_type": "execute_result",
          "data": {
            "text/html": [
              "<div>\n",
              "<style scoped>\n",
              "    .dataframe tbody tr th:only-of-type {\n",
              "        vertical-align: middle;\n",
              "    }\n",
              "\n",
              "    .dataframe tbody tr th {\n",
              "        vertical-align: top;\n",
              "    }\n",
              "\n",
              "    .dataframe thead th {\n",
              "        text-align: right;\n",
              "    }\n",
              "</style>\n",
              "<table border=\"1\" class=\"dataframe\">\n",
              "  <thead>\n",
              "    <tr style=\"text-align: right;\">\n",
              "      <th></th>\n",
              "      <th>Headlines</th>\n",
              "      <th>Links</th>\n",
              "    </tr>\n",
              "  </thead>\n",
              "  <tbody>\n",
              "    <tr>\n",
              "      <th>0</th>\n",
              "      <td>Former Aides to Bernie Sanders Form a Super PA...</td>\n",
              "      <td>https://www.nytimes.com/2020/04/28/us/politics...</td>\n",
              "    </tr>\n",
              "    <tr>\n",
              "      <th>1</th>\n",
              "      <td>In Bid for Party Unity, Biden Moves Beyond Res...</td>\n",
              "      <td>https://www.nytimes.com/2020/05/13/us/politics...</td>\n",
              "    </tr>\n",
              "    <tr>\n",
              "      <th>2</th>\n",
              "      <td>These Young Socialists Think They Have Courage...</td>\n",
              "      <td>https://www.nytimes.com/2020/05/13/opinion/soc...</td>\n",
              "    </tr>\n",
              "    <tr>\n",
              "      <th>3</th>\n",
              "      <td>Biden and Bernie, Bros</td>\n",
              "      <td>https://www.nytimes.com/2020/04/13/us/politics...</td>\n",
              "    </tr>\n",
              "    <tr>\n",
              "      <th>4</th>\n",
              "      <td>Bernie’s Endorsement Matters</td>\n",
              "      <td>https://www.nytimes.com/2020/04/14/opinion/ber...</td>\n",
              "    </tr>\n",
              "  </tbody>\n",
              "</table>\n",
              "</div>"
            ],
            "text/plain": [
              "                                           Headlines                                              Links\n",
              "0  Former Aides to Bernie Sanders Form a Super PA...  https://www.nytimes.com/2020/04/28/us/politics...\n",
              "1  In Bid for Party Unity, Biden Moves Beyond Res...  https://www.nytimes.com/2020/05/13/us/politics...\n",
              "2  These Young Socialists Think They Have Courage...  https://www.nytimes.com/2020/05/13/opinion/soc...\n",
              "3                             Biden and Bernie, Bros  https://www.nytimes.com/2020/04/13/us/politics...\n",
              "4                       Bernie’s Endorsement Matters  https://www.nytimes.com/2020/04/14/opinion/ber..."
            ]
          },
          "metadata": {
            "tags": []
          },
          "execution_count": 111
        }
      ]
    },
    {
      "cell_type": "code",
      "metadata": {
        "id": "gvs4C_oonRQA",
        "colab_type": "code",
        "colab": {
          "base_uri": "https://localhost:8080/",
          "height": 204
        },
        "outputId": "6b5e2caa-3036-4218-a752-b8491863b648"
      },
      "source": [
        "reutpd.head(5)"
      ],
      "execution_count": 112,
      "outputs": [
        {
          "output_type": "execute_result",
          "data": {
            "text/html": [
              "<div>\n",
              "<style scoped>\n",
              "    .dataframe tbody tr th:only-of-type {\n",
              "        vertical-align: middle;\n",
              "    }\n",
              "\n",
              "    .dataframe tbody tr th {\n",
              "        vertical-align: top;\n",
              "    }\n",
              "\n",
              "    .dataframe thead th {\n",
              "        text-align: right;\n",
              "    }\n",
              "</style>\n",
              "<table border=\"1\" class=\"dataframe\">\n",
              "  <thead>\n",
              "    <tr style=\"text-align: right;\">\n",
              "      <th></th>\n",
              "      <th>Headlines</th>\n",
              "      <th>Links</th>\n",
              "    </tr>\n",
              "  </thead>\n",
              "  <tbody>\n",
              "    <tr>\n",
              "      <th>0</th>\n",
              "      <td>Breakingviews - Cox: Who’s afraid of a Preside...</td>\n",
              "      <td>https://www.reuters.com/article/us-usa-politic...</td>\n",
              "    </tr>\n",
              "    <tr>\n",
              "      <th>1</th>\n",
              "      <td>Battleground Michigan seen as last stand for B...</td>\n",
              "      <td>https://www.reuters.com/article/idUSKBN20V0DS</td>\n",
              "    </tr>\n",
              "    <tr>\n",
              "      <th>2</th>\n",
              "      <td>Bernie Sanders cancels Cleveland rally over co...</td>\n",
              "      <td>https://www.reuters.com/article/idUSW1N2AO00T</td>\n",
              "    </tr>\n",
              "    <tr>\n",
              "      <th>3</th>\n",
              "      <td>Bernie Sanders cancels Cleveland rally over co...</td>\n",
              "      <td>https://www.reuters.com/article/idUSKBN20X2ZA</td>\n",
              "    </tr>\n",
              "    <tr>\n",
              "      <th>4</th>\n",
              "      <td>False claim: Photo shows Bernie Sanders at 196...</td>\n",
              "      <td>https://www.reuters.com/article/idUSKCN20K1PH</td>\n",
              "    </tr>\n",
              "  </tbody>\n",
              "</table>\n",
              "</div>"
            ],
            "text/plain": [
              "                                           Headlines                                              Links\n",
              "0  Breakingviews - Cox: Who’s afraid of a Preside...  https://www.reuters.com/article/us-usa-politic...\n",
              "1  Battleground Michigan seen as last stand for B...      https://www.reuters.com/article/idUSKBN20V0DS\n",
              "2  Bernie Sanders cancels Cleveland rally over co...      https://www.reuters.com/article/idUSW1N2AO00T\n",
              "3  Bernie Sanders cancels Cleveland rally over co...      https://www.reuters.com/article/idUSKBN20X2ZA\n",
              "4  False claim: Photo shows Bernie Sanders at 196...      https://www.reuters.com/article/idUSKCN20K1PH"
            ]
          },
          "metadata": {
            "tags": []
          },
          "execution_count": 112
        }
      ]
    },
    {
      "cell_type": "markdown",
      "metadata": {
        "id": "KxUMDQRmysg1",
        "colab_type": "text"
      },
      "source": [
        "# **Build Classifier**"
      ]
    },
    {
      "cell_type": "code",
      "metadata": {
        "id": "cMUMDi2glB2C",
        "colab_type": "code",
        "outputId": "f8b67954-48c1-4bab-8a79-25ec2e35fcb6",
        "colab": {
          "base_uri": "https://localhost:8080/",
          "height": 51
        }
      },
      "source": [
        "nltk.download('vader_lexicon')\n",
        "from nltk.sentiment.vader import SentimentIntensityAnalyzer"
      ],
      "execution_count": 113,
      "outputs": [
        {
          "output_type": "stream",
          "text": [
            "[nltk_data] Downloading package vader_lexicon to /root/nltk_data...\n",
            "[nltk_data]   Package vader_lexicon is already up-to-date!\n"
          ],
          "name": "stdout"
        }
      ]
    },
    {
      "cell_type": "code",
      "metadata": {
        "id": "VwqWX4hkqRqq",
        "colab_type": "code",
        "colab": {}
      },
      "source": [
        "def sentiment(data):\n",
        "  senti = SentimentIntensityAnalyzer();\n",
        "  hl = data['Headlines'].values\n",
        "  n = len(hl)\n",
        "  Score = []\n",
        "\n",
        "  for i in range(0, n, 1):\n",
        "    s = senti.polarity_scores(hl[i])\n",
        "    Score.append(s['compound'])\n",
        "  return Score"
      ],
      "execution_count": 0,
      "outputs": []
    },
    {
      "cell_type": "code",
      "metadata": {
        "id": "RqBuzZawtimD",
        "colab_type": "code",
        "colab": {}
      },
      "source": [
        "def sentiment2(data):\n",
        "  hl = data['Headlines'].values\n",
        "  n = len(hl)\n",
        "  Score = []\n",
        "\n",
        "  for i in range(0, n, 1):\n",
        "    s = TextBlob(hl[i])\n",
        "    Score.append(s.sentiment.polarity)\n",
        "  return Score"
      ],
      "execution_count": 0,
      "outputs": []
    },
    {
      "cell_type": "code",
      "metadata": {
        "id": "38YHF7oEu8qo",
        "colab_type": "code",
        "colab": {}
      },
      "source": [
        "def comment(data):\n",
        "  avg = data['Average Score'].values; num = len(avg)\n",
        "  comment = []; p = 'Positive'; n = 'Negative'; neu = 'Neutral';\n",
        "  \n",
        "  for i in range(0, num, 1):\n",
        "    if avg[i] > 0.05: \n",
        "      comment.append(p)\n",
        "    elif (-0.05 <= avg[i] <= 0.05):\n",
        "      comment.append(neu)\n",
        "    else:\n",
        "      comment.append(n)\n",
        "  return comment"
      ],
      "execution_count": 0,
      "outputs": []
    },
    {
      "cell_type": "code",
      "metadata": {
        "id": "9ZFVd6Hlq6oA",
        "colab_type": "code",
        "colab": {}
      },
      "source": [
        "nytScore = sentiment(nytpd); nytpd.insert(1,\"NLTK_Score\",nytScore)\n",
        "reutScore = sentiment(reutpd); reutpd.insert(1,\"NLTK_Score\",reutScore)\n",
        "\n",
        "nytScore2 = sentiment2(nytpd); nytpd.insert(2,\"TextBlob_Score\",nytScore2)\n",
        "reutScore2 = sentiment2(reutpd); reutpd.insert(2,\"TextBlob_Score\",reutScore2)"
      ],
      "execution_count": 0,
      "outputs": []
    },
    {
      "cell_type": "code",
      "metadata": {
        "id": "j1XA2onujByl",
        "colab_type": "code",
        "colab": {}
      },
      "source": [
        "nytpd.insert(3,'Average Score', (nytpd.NLTK_Score+nytpd.TextBlob_Score)/2)\n",
        "reutpd.insert(3,'Average Score', (reutpd.NLTK_Score+reutpd.TextBlob_Score)/2)"
      ],
      "execution_count": 0,
      "outputs": []
    },
    {
      "cell_type": "code",
      "metadata": {
        "id": "6vsiVRFjjCA0",
        "colab_type": "code",
        "colab": {}
      },
      "source": [
        "nytcmt = comment(nytpd); nytpd.insert(4, 'Review', nytcmt)\n",
        "reutcmt = comment(reutpd); reutpd.insert(4, 'Review', reutcmt)"
      ],
      "execution_count": 0,
      "outputs": []
    },
    {
      "cell_type": "markdown",
      "metadata": {
        "id": "zzPcsSGDy3OE",
        "colab_type": "text"
      },
      "source": [
        "# **Results**"
      ]
    },
    {
      "cell_type": "code",
      "metadata": {
        "id": "WrXHDuChqqwn",
        "colab_type": "code",
        "outputId": "59119c23-54d5-4109-aaac-f5ed8d48d93b",
        "colab": {
          "base_uri": "https://localhost:8080/",
          "height": 359
        }
      },
      "source": [
        "nytpd"
      ],
      "execution_count": 121,
      "outputs": [
        {
          "output_type": "execute_result",
          "data": {
            "text/html": [
              "<div>\n",
              "<style scoped>\n",
              "    .dataframe tbody tr th:only-of-type {\n",
              "        vertical-align: middle;\n",
              "    }\n",
              "\n",
              "    .dataframe tbody tr th {\n",
              "        vertical-align: top;\n",
              "    }\n",
              "\n",
              "    .dataframe thead th {\n",
              "        text-align: right;\n",
              "    }\n",
              "</style>\n",
              "<table border=\"1\" class=\"dataframe\">\n",
              "  <thead>\n",
              "    <tr style=\"text-align: right;\">\n",
              "      <th></th>\n",
              "      <th>Headlines</th>\n",
              "      <th>NLTK_Score</th>\n",
              "      <th>TextBlob_Score</th>\n",
              "      <th>Average Score</th>\n",
              "      <th>Review</th>\n",
              "      <th>Links</th>\n",
              "    </tr>\n",
              "  </thead>\n",
              "  <tbody>\n",
              "    <tr>\n",
              "      <th>0</th>\n",
              "      <td>Former Aides to Bernie Sanders Form a Super PA...</td>\n",
              "      <td>0.7650</td>\n",
              "      <td>0.166667</td>\n",
              "      <td>0.465833</td>\n",
              "      <td>Positive</td>\n",
              "      <td>https://www.nytimes.com/2020/04/28/us/politics...</td>\n",
              "    </tr>\n",
              "    <tr>\n",
              "      <th>1</th>\n",
              "      <td>In Bid for Party Unity, Biden Moves Beyond Res...</td>\n",
              "      <td>0.5994</td>\n",
              "      <td>0.000000</td>\n",
              "      <td>0.299700</td>\n",
              "      <td>Positive</td>\n",
              "      <td>https://www.nytimes.com/2020/05/13/us/politics...</td>\n",
              "    </tr>\n",
              "    <tr>\n",
              "      <th>2</th>\n",
              "      <td>These Young Socialists Think They Have Courage...</td>\n",
              "      <td>0.4939</td>\n",
              "      <td>0.100000</td>\n",
              "      <td>0.296950</td>\n",
              "      <td>Positive</td>\n",
              "      <td>https://www.nytimes.com/2020/05/13/opinion/soc...</td>\n",
              "    </tr>\n",
              "    <tr>\n",
              "      <th>3</th>\n",
              "      <td>Biden and Bernie, Bros</td>\n",
              "      <td>0.0000</td>\n",
              "      <td>0.000000</td>\n",
              "      <td>0.000000</td>\n",
              "      <td>Neutral</td>\n",
              "      <td>https://www.nytimes.com/2020/04/13/us/politics...</td>\n",
              "    </tr>\n",
              "    <tr>\n",
              "      <th>4</th>\n",
              "      <td>Bernie’s Endorsement Matters</td>\n",
              "      <td>0.3400</td>\n",
              "      <td>0.000000</td>\n",
              "      <td>0.170000</td>\n",
              "      <td>Positive</td>\n",
              "      <td>https://www.nytimes.com/2020/04/14/opinion/ber...</td>\n",
              "    </tr>\n",
              "    <tr>\n",
              "      <th>5</th>\n",
              "      <td>New York Must Hold Democratic Presidential Pri...</td>\n",
              "      <td>0.0000</td>\n",
              "      <td>0.268182</td>\n",
              "      <td>0.134091</td>\n",
              "      <td>Positive</td>\n",
              "      <td>https://www.nytimes.com/2020/05/05/us/politics...</td>\n",
              "    </tr>\n",
              "    <tr>\n",
              "      <th>6</th>\n",
              "      <td>Will We Face Depression-Era Job Losses? Let’s ...</td>\n",
              "      <td>-0.4019</td>\n",
              "      <td>0.000000</td>\n",
              "      <td>-0.200950</td>\n",
              "      <td>Negative</td>\n",
              "      <td>https://www.nytimes.com/2020/05/09/opinion/fed...</td>\n",
              "    </tr>\n",
              "    <tr>\n",
              "      <th>7</th>\n",
              "      <td>The Democratic Establishment Suddenly Loves Be...</td>\n",
              "      <td>0.5719</td>\n",
              "      <td>0.000000</td>\n",
              "      <td>0.285950</td>\n",
              "      <td>Positive</td>\n",
              "      <td>https://www.nytimes.com/2020/04/16/us/politics...</td>\n",
              "    </tr>\n",
              "    <tr>\n",
              "      <th>8</th>\n",
              "      <td>New York Board of Elections Cancels Democratic...</td>\n",
              "      <td>-0.2263</td>\n",
              "      <td>0.268182</td>\n",
              "      <td>0.020941</td>\n",
              "      <td>Neutral</td>\n",
              "      <td>https://www.nytimes.com/2020/04/27/us/politics...</td>\n",
              "    </tr>\n",
              "    <tr>\n",
              "      <th>9</th>\n",
              "      <td>Bernie Sanders Drops Out</td>\n",
              "      <td>0.0000</td>\n",
              "      <td>0.000000</td>\n",
              "      <td>0.000000</td>\n",
              "      <td>Neutral</td>\n",
              "      <td>https://www.nytimes.com/2020/04/08/podcasts/th...</td>\n",
              "    </tr>\n",
              "  </tbody>\n",
              "</table>\n",
              "</div>"
            ],
            "text/plain": [
              "                                           Headlines  ...                                              Links\n",
              "0  Former Aides to Bernie Sanders Form a Super PA...  ...  https://www.nytimes.com/2020/04/28/us/politics...\n",
              "1  In Bid for Party Unity, Biden Moves Beyond Res...  ...  https://www.nytimes.com/2020/05/13/us/politics...\n",
              "2  These Young Socialists Think They Have Courage...  ...  https://www.nytimes.com/2020/05/13/opinion/soc...\n",
              "3                             Biden and Bernie, Bros  ...  https://www.nytimes.com/2020/04/13/us/politics...\n",
              "4                       Bernie’s Endorsement Matters  ...  https://www.nytimes.com/2020/04/14/opinion/ber...\n",
              "5  New York Must Hold Democratic Presidential Pri...  ...  https://www.nytimes.com/2020/05/05/us/politics...\n",
              "6  Will We Face Depression-Era Job Losses? Let’s ...  ...  https://www.nytimes.com/2020/05/09/opinion/fed...\n",
              "7  The Democratic Establishment Suddenly Loves Be...  ...  https://www.nytimes.com/2020/04/16/us/politics...\n",
              "8  New York Board of Elections Cancels Democratic...  ...  https://www.nytimes.com/2020/04/27/us/politics...\n",
              "9                           Bernie Sanders Drops Out  ...  https://www.nytimes.com/2020/04/08/podcasts/th...\n",
              "\n",
              "[10 rows x 6 columns]"
            ]
          },
          "metadata": {
            "tags": []
          },
          "execution_count": 121
        }
      ]
    },
    {
      "cell_type": "code",
      "metadata": {
        "id": "FJtbHTEqqu3o",
        "colab_type": "code",
        "outputId": "4f2ca495-ea69-4a66-c76f-98e9ce129353",
        "colab": {
          "base_uri": "https://localhost:8080/",
          "height": 359
        }
      },
      "source": [
        "reutpd"
      ],
      "execution_count": 122,
      "outputs": [
        {
          "output_type": "execute_result",
          "data": {
            "text/html": [
              "<div>\n",
              "<style scoped>\n",
              "    .dataframe tbody tr th:only-of-type {\n",
              "        vertical-align: middle;\n",
              "    }\n",
              "\n",
              "    .dataframe tbody tr th {\n",
              "        vertical-align: top;\n",
              "    }\n",
              "\n",
              "    .dataframe thead th {\n",
              "        text-align: right;\n",
              "    }\n",
              "</style>\n",
              "<table border=\"1\" class=\"dataframe\">\n",
              "  <thead>\n",
              "    <tr style=\"text-align: right;\">\n",
              "      <th></th>\n",
              "      <th>Headlines</th>\n",
              "      <th>NLTK_Score</th>\n",
              "      <th>TextBlob_Score</th>\n",
              "      <th>Average Score</th>\n",
              "      <th>Review</th>\n",
              "      <th>Links</th>\n",
              "    </tr>\n",
              "  </thead>\n",
              "  <tbody>\n",
              "    <tr>\n",
              "      <th>0</th>\n",
              "      <td>Breakingviews - Cox: Who’s afraid of a Preside...</td>\n",
              "      <td>0.0000</td>\n",
              "      <td>-0.6</td>\n",
              "      <td>-0.30000</td>\n",
              "      <td>Negative</td>\n",
              "      <td>https://www.reuters.com/article/us-usa-politic...</td>\n",
              "    </tr>\n",
              "    <tr>\n",
              "      <th>1</th>\n",
              "      <td>Battleground Michigan seen as last stand for B...</td>\n",
              "      <td>-0.4019</td>\n",
              "      <td>0.0</td>\n",
              "      <td>-0.20095</td>\n",
              "      <td>Negative</td>\n",
              "      <td>https://www.reuters.com/article/idUSKBN20V0DS</td>\n",
              "    </tr>\n",
              "    <tr>\n",
              "      <th>2</th>\n",
              "      <td>Bernie Sanders cancels Cleveland rally over co...</td>\n",
              "      <td>-0.2263</td>\n",
              "      <td>0.0</td>\n",
              "      <td>-0.11315</td>\n",
              "      <td>Negative</td>\n",
              "      <td>https://www.reuters.com/article/idUSW1N2AO00T</td>\n",
              "    </tr>\n",
              "    <tr>\n",
              "      <th>3</th>\n",
              "      <td>Bernie Sanders cancels Cleveland rally over co...</td>\n",
              "      <td>-0.2263</td>\n",
              "      <td>0.0</td>\n",
              "      <td>-0.11315</td>\n",
              "      <td>Negative</td>\n",
              "      <td>https://www.reuters.com/article/idUSKBN20X2ZA</td>\n",
              "    </tr>\n",
              "    <tr>\n",
              "      <th>4</th>\n",
              "      <td>False claim: Photo shows Bernie Sanders at 196...</td>\n",
              "      <td>-0.5106</td>\n",
              "      <td>-0.4</td>\n",
              "      <td>-0.45530</td>\n",
              "      <td>Negative</td>\n",
              "      <td>https://www.reuters.com/article/idUSKCN20K1PH</td>\n",
              "    </tr>\n",
              "    <tr>\n",
              "      <th>5</th>\n",
              "      <td>'Nobody likes him': Hillary Clinton bashes Ber...</td>\n",
              "      <td>0.4215</td>\n",
              "      <td>0.0</td>\n",
              "      <td>0.21075</td>\n",
              "      <td>Positive</td>\n",
              "      <td>https://www.reuters.com/article/idUSKBN1ZK233</td>\n",
              "    </tr>\n",
              "    <tr>\n",
              "      <th>6</th>\n",
              "      <td>UPDATE 2-'Nobody likes him' - Hillary Clinton ...</td>\n",
              "      <td>0.4215</td>\n",
              "      <td>0.0</td>\n",
              "      <td>0.21075</td>\n",
              "      <td>Positive</td>\n",
              "      <td>https://www.reuters.com/article/idUSL1N29Q0WK</td>\n",
              "    </tr>\n",
              "    <tr>\n",
              "      <th>7</th>\n",
              "      <td>After feud with Warren, Bernie Sanders release...</td>\n",
              "      <td>-0.3400</td>\n",
              "      <td>0.0</td>\n",
              "      <td>-0.17000</td>\n",
              "      <td>Negative</td>\n",
              "      <td>https://www.reuters.com/article/idUSL1N29M10V</td>\n",
              "    </tr>\n",
              "    <tr>\n",
              "      <th>8</th>\n",
              "      <td>'Nobody likes him' - Hillary Clinton bashes Be...</td>\n",
              "      <td>0.4215</td>\n",
              "      <td>0.0</td>\n",
              "      <td>0.21075</td>\n",
              "      <td>Positive</td>\n",
              "      <td>https://www.reuters.com/article/idUSL1N29Q0LM</td>\n",
              "    </tr>\n",
              "    <tr>\n",
              "      <th>9</th>\n",
              "      <td>Breakingviews - Bernie Sanders may yet get his...</td>\n",
              "      <td>0.2500</td>\n",
              "      <td>0.0</td>\n",
              "      <td>0.12500</td>\n",
              "      <td>Positive</td>\n",
              "      <td>https://www.reuters.com/article/idUSKCN21Q31A</td>\n",
              "    </tr>\n",
              "  </tbody>\n",
              "</table>\n",
              "</div>"
            ],
            "text/plain": [
              "                                           Headlines  ...                                              Links\n",
              "0  Breakingviews - Cox: Who’s afraid of a Preside...  ...  https://www.reuters.com/article/us-usa-politic...\n",
              "1  Battleground Michigan seen as last stand for B...  ...      https://www.reuters.com/article/idUSKBN20V0DS\n",
              "2  Bernie Sanders cancels Cleveland rally over co...  ...      https://www.reuters.com/article/idUSW1N2AO00T\n",
              "3  Bernie Sanders cancels Cleveland rally over co...  ...      https://www.reuters.com/article/idUSKBN20X2ZA\n",
              "4  False claim: Photo shows Bernie Sanders at 196...  ...      https://www.reuters.com/article/idUSKCN20K1PH\n",
              "5  'Nobody likes him': Hillary Clinton bashes Ber...  ...      https://www.reuters.com/article/idUSKBN1ZK233\n",
              "6  UPDATE 2-'Nobody likes him' - Hillary Clinton ...  ...      https://www.reuters.com/article/idUSL1N29Q0WK\n",
              "7  After feud with Warren, Bernie Sanders release...  ...      https://www.reuters.com/article/idUSL1N29M10V\n",
              "8  'Nobody likes him' - Hillary Clinton bashes Be...  ...      https://www.reuters.com/article/idUSL1N29Q0LM\n",
              "9  Breakingviews - Bernie Sanders may yet get his...  ...      https://www.reuters.com/article/idUSKCN21Q31A\n",
              "\n",
              "[10 rows x 6 columns]"
            ]
          },
          "metadata": {
            "tags": []
          },
          "execution_count": 122
        }
      ]
    },
    {
      "cell_type": "markdown",
      "metadata": {
        "id": "0h9XTmf7nhYk",
        "colab_type": "text"
      },
      "source": [
        "# **Some Thoughts**\n",
        "\n",
        "From this primitive sentiment analysis, we can see that NYT headlines are more opinionated than Reuters'. But one thing to consider here is that, this indeed is a very ***primitive*** sentiment analysis. We used two *pre-trained* models-NLTK's Vader Sentiment Analyzer and TextBlob--to give us a sentiment score, which we then averaged to give us our final score. Both of these pre-trained models use a Bag-Of-Words approach in which each word in a sentence has a sentiment-score, and the final sentence/text sentiment score is a function of these individuals scores. These models try, but are not great at understanding context. With these, among other, considerations in mind--it would be inappropriate to use these tools to make any final judgements.\n",
        "\n",
        "Word-Embeddings, such as Word2Vec and GloVE, do a much better job of understanding context--and are currently the standard."
      ]
    },
    {
      "cell_type": "markdown",
      "metadata": {
        "id": "tujL5WHIqVXd",
        "colab_type": "text"
      },
      "source": [
        "# **Further Exploration**\n",
        "\n",
        "Here we explore some other methods, which maybe helpful in identifying bias."
      ]
    },
    {
      "cell_type": "markdown",
      "metadata": {
        "id": "klYqrfwBrAnb",
        "colab_type": "text"
      },
      "source": [
        "## Getting Reuters Articles"
      ]
    },
    {
      "cell_type": "code",
      "metadata": {
        "id": "Gj5A9v9ZIKyO",
        "colab_type": "code",
        "colab": {}
      },
      "source": [
        "reuhls = reutpd[\"Headlines\"].values\n",
        "reulinks = reutpd[\"Links\"].values"
      ],
      "execution_count": 0,
      "outputs": []
    },
    {
      "cell_type": "code",
      "metadata": {
        "id": "obwEeZobP-BT",
        "colab_type": "code",
        "colab": {}
      },
      "source": [
        "pge = requests.get(reulinks[1])\n",
        "soup = BeautifulSoup(pge.content, 'html.parser')\n",
        "t = soup.find('div', attrs={'class':'StandardArticleBody_body'})"
      ],
      "execution_count": 0,
      "outputs": []
    },
    {
      "cell_type": "code",
      "metadata": {
        "id": "9CtExhy8MEds",
        "colab_type": "code",
        "outputId": "153d29ab-019c-4a6d-d083-648e84363bee",
        "colab": {
          "base_uri": "https://localhost:8080/",
          "height": 187
        }
      },
      "source": [
        "text = []\n",
        "for l in reulinks:\n",
        "  print(l)\n",
        "  pge = requests.get(l)\n",
        "  soup = BeautifulSoup(pge.content, 'html.parser')\n",
        "  t = soup.find('div', attrs={'class':'StandardArticleBody_body'})\n",
        "  text.append(t.text)"
      ],
      "execution_count": 163,
      "outputs": [
        {
          "output_type": "stream",
          "text": [
            "https://www.reuters.com/article/us-usa-politics-sanders-breakingviews/breakingviews-cox-whos-afraid-of-a-president-bernie-sanders-idUSKBN1ZX20B\n",
            "https://www.reuters.com/article/idUSKBN20V0DS\n",
            "https://www.reuters.com/article/idUSW1N2AO00T\n",
            "https://www.reuters.com/article/idUSKBN20X2ZA\n",
            "https://www.reuters.com/article/idUSKCN20K1PH\n",
            "https://www.reuters.com/article/idUSKBN1ZK233\n",
            "https://www.reuters.com/article/idUSL1N29Q0WK\n",
            "https://www.reuters.com/article/idUSL1N29M10V\n",
            "https://www.reuters.com/article/idUSL1N29Q0LM\n",
            "https://www.reuters.com/article/idUSKCN21Q31A\n"
          ],
          "name": "stdout"
        }
      ]
    },
    {
      "cell_type": "markdown",
      "metadata": {
        "id": "-zJtLqQIrjLk",
        "colab_type": "text"
      },
      "source": [
        "## Preprocessing Text\n",
        "\n",
        "When performing text-analysis, its common practice to remove punctuations and make all text lower-case. Punctuations and letter-case do not offer much context to machines, as they do to humans."
      ]
    },
    {
      "cell_type": "code",
      "metadata": {
        "id": "jR32ETKMOSjH",
        "colab_type": "code",
        "colab": {}
      },
      "source": [
        "def cleantext(t):\n",
        "    t = t.lower()\n",
        "    t = re.sub(r\"[^A-Za-z0-9^,!?.\\/'+]\", \" \", t)\n",
        "    t = re.sub(r\"\\+\", \" plus \", t)\n",
        "    t = re.sub(r\",\", \" \", t)\n",
        "    t = re.sub(r\"\\.\", \" \", t)\n",
        "    t = re.sub(r\"!\", \" ! \", t)\n",
        "    t = re.sub(r\"\\?\", \" ? \", t)\n",
        "    t = re.sub(r\"'\", \" \", t)\n",
        "    t = re.sub(r\":\", \" : \", t)\n",
        "    t = re.sub(r\"\\s{2,}\", \" \", t)\n",
        "    return t"
      ],
      "execution_count": 0,
      "outputs": []
    },
    {
      "cell_type": "code",
      "metadata": {
        "id": "BPFg7YUZb5V8",
        "colab_type": "code",
        "colab": {}
      },
      "source": [
        "for i in range(0, len(text)):\n",
        "  text[i] = cleantext(text[i])"
      ],
      "execution_count": 0,
      "outputs": []
    },
    {
      "cell_type": "code",
      "metadata": {
        "id": "_xH471J6sGBs",
        "colab_type": "code",
        "colab": {
          "base_uri": "https://localhost:8080/",
          "height": 54
        },
        "outputId": "7c9710e9-1919-41d3-d3f4-83e817ee59ef"
      },
      "source": [
        "text[6]"
      ],
      "execution_count": 166,
      "outputs": [
        {
          "output_type": "execute_result",
          "data": {
            "text/plain": [
              "'washington reuters hillary clinton criticized the campaign of her former democratic presidential rival bernie sanders in a new documentary in which she says he was an ineffective u s senator who accomplished little because nobody liked him clinton also weighed in on the dispute between sanders and 2020 democratic presidential rival elizabeth warren centering around the electability of women saying sanders demonstrated a pattern in how his campaign attacked women rivals the criticism made in a hulu documentary to be shown at the sundance film festival on saturday and an interview promoting it revealed lingering bitterness toward sanders after he mounted an unexpected democratic primary challenge to clinton in 2016 clinton backers blame sanders supporters for tarnishing her with vitriolic criticism that helped put republican donald trump in the white house he was in congress for years he had one senator support him nobody likes him nobody wants to work with him he got nothing done he was a career politician it s all just baloney and i feel so bad that people got sucked into it clinton says in the documentary according to the hollywood reporter asked recently by the magazine if that assessment still holds clinton said yes it does sanders said in a statement that my focus today is on a monumental moment in american history the impeachment trial of donald trump together we are going to go forward and defeat the most dangerous president in american history clinton did not commit to endorsing and campaigning for sanders should he win the nomination this year citing a competitive democratic field but she criticized his campaign as having a culture of insult and attack i will say however that it s not only him it s the culture around him it s his leadership team it s his prominent supporters it s his online bernie bros and their relentless attacks on lots of his competitors particularly the women clinton told the hollywood reporter clinton later tweeted that she would back a democratic nominee she wrote in a tweet i thought everyone wanted my authentic unvarnished views ! but to be serious the number one priority for our country and world is retiring trump and as i always have i will do whatever i can to support our nominee she said slideshow 3 images when she was asked about the dispute over whether sanders told warren in a private conversation that a woman could not beat trump clinton pointed out that she got 3 million more votes than trump in the 2016 presidential election clinton called the dispute part of a pattern with sanders noting he had attacked her as being unqualified despite her experience including as secretary of state and a u s senator she encouraged voters to elect a president who s going to try to bring us together and not either turn a blind eye or actually reward the kind of insulting attacking demeaning degrading behavior that we ve seen from this current administration reporting by doina chiacu additional reporting by trevor hunnicutt simon lewis and rama venkat editing by andrea ricci shri navaratnamour standards the thomson reuters trust principles '"
            ]
          },
          "metadata": {
            "tags": []
          },
          "execution_count": 166
        }
      ]
    },
    {
      "cell_type": "code",
      "metadata": {
        "id": "DoGDhGslcQdc",
        "colab_type": "code",
        "outputId": "a56ee121-d0d2-4a59-b3a3-44ce3a3a6fa7",
        "colab": {
          "base_uri": "https://localhost:8080/",
          "height": 136
        }
      },
      "source": [
        "nltk.download(\"gutenberg\")\n",
        "nltk.download('punkt')\n",
        "nltk.download('stopwords')"
      ],
      "execution_count": 167,
      "outputs": [
        {
          "output_type": "stream",
          "text": [
            "[nltk_data] Downloading package gutenberg to /root/nltk_data...\n",
            "[nltk_data]   Package gutenberg is already up-to-date!\n",
            "[nltk_data] Downloading package punkt to /root/nltk_data...\n",
            "[nltk_data]   Package punkt is already up-to-date!\n",
            "[nltk_data] Downloading package stopwords to /root/nltk_data...\n",
            "[nltk_data]   Package stopwords is already up-to-date!\n"
          ],
          "name": "stdout"
        },
        {
          "output_type": "execute_result",
          "data": {
            "text/plain": [
              "True"
            ]
          },
          "metadata": {
            "tags": []
          },
          "execution_count": 167
        }
      ]
    },
    {
      "cell_type": "markdown",
      "metadata": {
        "id": "UL9C5w1-uP9c",
        "colab_type": "text"
      },
      "source": [
        "## Tokenizing\n",
        "\n",
        "Text-analysis is typically conducted using ***tokens***--which is a representation of a piece of text as an array of words. Its also advised to remove any 'stopwords'--these are common words, such as pronound, which do not offer much meaning to a piece of text as a whole. This piece of code below, tokenizes a given piece of text--a Reuters article in our case--and remoives stopwords, using tools from the NLTK library."
      ]
    },
    {
      "cell_type": "code",
      "metadata": {
        "id": "BVFlYFNvpnfu",
        "colab_type": "code",
        "colab": {}
      },
      "source": [
        "def insttext(textarray):\n",
        "  tokens = nltk.tokenize.word_tokenize(textarray)\n",
        "  t1 = Text(tokens)\n",
        "  return t1"
      ],
      "execution_count": 0,
      "outputs": []
    },
    {
      "cell_type": "code",
      "metadata": {
        "id": "akaO6270RRlu",
        "colab_type": "code",
        "colab": {}
      },
      "source": [
        "t1 = insttext(text[6])"
      ],
      "execution_count": 0,
      "outputs": []
    },
    {
      "cell_type": "markdown",
      "metadata": {
        "id": "r3qJTsxgvwAL",
        "colab_type": "text"
      },
      "source": [
        "## Dispersion Plot\n",
        "\n",
        "A ***Dispersion Plot***, shows the occurances of a particular word in a given article. We can use a dispersion plot to make some initial claims about a given article. For example, we are analyzing an article about **Bernie Sanders**, we can use the dispersion plot to plot the occurances of 'socialist' and/or 'communist' in the article; if the latter word is sprinkled all over the article, we may conclude that the article aims to cast a bad represantion of the senator."
      ]
    },
    {
      "cell_type": "code",
      "metadata": {
        "id": "GYqN5XknqaPB",
        "colab_type": "code",
        "outputId": "067719f0-368e-4160-bdbe-f228b2759276",
        "colab": {
          "base_uri": "https://localhost:8080/",
          "height": 295
        }
      },
      "source": [
        "t1.dispersion_plot(['trump', 'clinton', 'communist'])"
      ],
      "execution_count": 170,
      "outputs": [
        {
          "output_type": "display_data",
          "data": {
            "image/png": "[encoded data removed]",
            "text/plain": [
              "<Figure size 432x288 with 1 Axes>"
            ]
          },
          "metadata": {
            "tags": [],
            "needs_background": "light"
          }
        }
      ]
    },
    {
      "cell_type": "markdown",
      "metadata": {
        "id": "bq7GTms7xbrN",
        "colab_type": "text"
      },
      "source": [
        "# **Final Thoughts**\n",
        "\n",
        "As mentioned earlier, this was an introductory project to get my hands dirty with some Natural Language Processing. NLP is a growing field with many applications. Though I did not get the chance to get into word-embeddings in this project, there are upcoming projects that I will publish soon in the same repository."
      ]
    },
    {
      "cell_type": "markdown",
      "metadata": {
        "id": "jWm7F7CbzCjl",
        "colab_type": "text"
      },
      "source": [
        "# ***Thank You***"
      ]
    }
  ]
}